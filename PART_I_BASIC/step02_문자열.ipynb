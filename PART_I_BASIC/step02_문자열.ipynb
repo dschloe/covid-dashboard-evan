{
 "cells": [
  {
   "cell_type": "markdown",
   "id": "21c21181-a02d-4752-b1cb-69aa7e24b488",
   "metadata": {},
   "source": [
    "# 문자열"
   ]
  },
  {
   "cell_type": "code",
   "execution_count": 2,
   "id": "44eb56ac-b37b-43b5-a77d-58d5ed571370",
   "metadata": {},
   "outputs": [
    {
     "name": "stdout",
     "output_type": "stream",
     "text": [
      "this is a string\n",
      "<class 'str'>\n"
     ]
    }
   ],
   "source": [
    "a = 'this is a string'\n",
    "print(a)\n",
    "print(type(a))"
   ]
  },
  {
   "cell_type": "code",
   "execution_count": 3,
   "id": "e695eda3-fa11-4b9c-9876-6efe7ee9fc53",
   "metadata": {},
   "outputs": [
    {
     "ename": "SyntaxError",
     "evalue": "EOL while scanning string literal (1782966589.py, line 1)",
     "output_type": "error",
     "traceback": [
      "\u001b[1;36m  Input \u001b[1;32mIn [3]\u001b[1;36m\u001b[0m\n\u001b[1;33m    a = \"this is a string'\u001b[0m\n\u001b[1;37m                          ^\u001b[0m\n\u001b[1;31mSyntaxError\u001b[0m\u001b[1;31m:\u001b[0m EOL while scanning string literal\n"
     ]
    }
   ],
   "source": [
    "a = \"this is a string'"
   ]
  },
  {
   "cell_type": "code",
   "execution_count": 5,
   "id": "5114a6d9-c1a3-4cbd-b16c-9bf6ee04f35e",
   "metadata": {},
   "outputs": [
    {
     "name": "stdout",
     "output_type": "stream",
     "text": [
      "HelloPython\n"
     ]
    }
   ],
   "source": [
    "a = \"Hello\" \"Python\"\n",
    "print(a)"
   ]
  },
  {
   "cell_type": "code",
   "execution_count": 7,
   "id": "8df5fb30-668e-4ef5-b9f0-5ac88c54edae",
   "metadata": {},
   "outputs": [
    {
     "name": "stdout",
     "output_type": "stream",
     "text": [
      "\n",
      "    This\n",
      "    is\n",
      "    Python\n",
      "\n"
     ]
    }
   ],
   "source": [
    "multi_lines = \"\"\"\n",
    "    This\n",
    "    is\n",
    "    Python\n",
    "\"\"\"\n",
    "print(multi_lines)"
   ]
  },
  {
   "cell_type": "markdown",
   "id": "ac358594-3ced-4f85-bc75-52872ce8d442",
   "metadata": {},
   "source": [
    "## 슬라이싱"
   ]
  },
  {
   "cell_type": "code",
   "execution_count": 3,
   "id": "f4d19095-fb0e-4442-87c9-afe729653ebe",
   "metadata": {},
   "outputs": [
    {
     "name": "stdout",
     "output_type": "stream",
     "text": [
      "Dash\n"
     ]
    }
   ],
   "source": [
    "x = \"Dash를 활용하여 대시보드를 만들자\"\n",
    "print(x[0:4])"
   ]
  },
  {
   "cell_type": "code",
   "execution_count": 5,
   "id": "8c8346c7-5087-442f-9cae-6f16f1ebd508",
   "metadata": {},
   "outputs": [
    {
     "name": "stdout",
     "output_type": "stream",
     "text": [
      "대시보드\n"
     ]
    }
   ],
   "source": [
    "x = \"Dash를 활용하여 대시보드를 만들자\"\n",
    "print(x[-9:-5])"
   ]
  },
  {
   "cell_type": "code",
   "execution_count": 7,
   "id": "1efc6c80-990b-415e-a991-13086b32968f",
   "metadata": {},
   "outputs": [
    {
     "name": "stdout",
     "output_type": "stream",
     "text": [
      "s를활하\n"
     ]
    }
   ],
   "source": [
    "x = \"Dash를 활용하여 대시보드를 만들자\"\n",
    "print(x[2:10:2])"
   ]
  }
 ],
 "metadata": {
  "kernelspec": {
   "display_name": "Python 3 (ipykernel)",
   "language": "python",
   "name": "python3"
  },
  "language_info": {
   "codemirror_mode": {
    "name": "ipython",
    "version": 3
   },
   "file_extension": ".py",
   "mimetype": "text/x-python",
   "name": "python",
   "nbconvert_exporter": "python",
   "pygments_lexer": "ipython3",
   "version": "3.8.0"
  }
 },
 "nbformat": 4,
 "nbformat_minor": 5
}
