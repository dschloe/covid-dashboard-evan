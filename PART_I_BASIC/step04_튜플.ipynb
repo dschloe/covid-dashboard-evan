{
 "cells": [
  {
   "cell_type": "markdown",
   "id": "6d290238-b6b5-4162-be88-7e63145cb8ab",
   "metadata": {},
   "source": [
    "## 튜플 다루기"
   ]
  },
  {
   "cell_type": "code",
   "execution_count": 1,
   "id": "6d9bdd0c-58c4-40e9-ba69-34d614410362",
   "metadata": {},
   "outputs": [
    {
     "ename": "TypeError",
     "evalue": "'tuple' object does not support item assignment",
     "output_type": "error",
     "traceback": [
      "\u001b[1;31m---------------------------------------------------------------------------\u001b[0m",
      "\u001b[1;31mTypeError\u001b[0m                                 Traceback (most recent call last)",
      "Input \u001b[1;32mIn [1]\u001b[0m, in \u001b[0;36m<module>\u001b[1;34m\u001b[0m\n\u001b[0;32m      1\u001b[0m fruits \u001b[38;5;241m=\u001b[39m (\u001b[38;5;124m\"\u001b[39m\u001b[38;5;124m사과\u001b[39m\u001b[38;5;124m\"\u001b[39m, \u001b[38;5;124m\"\u001b[39m\u001b[38;5;124m바나나\u001b[39m\u001b[38;5;124m\"\u001b[39m, \u001b[38;5;124m\"\u001b[39m\u001b[38;5;124m딸기\u001b[39m\u001b[38;5;124m\"\u001b[39m)\n\u001b[1;32m----> 2\u001b[0m fruits[\u001b[38;5;241m1\u001b[39m] \u001b[38;5;241m=\u001b[39m \u001b[38;5;124m\"\u001b[39m\u001b[38;5;124m배\u001b[39m\u001b[38;5;124m\"\u001b[39m\n",
      "\u001b[1;31mTypeError\u001b[0m: 'tuple' object does not support item assignment"
     ]
    }
   ],
   "source": [
    "fruits = (\"사과\", \"바나나\", \"딸기\")\n",
    "fruits[1] = \"배\""
   ]
  },
  {
   "cell_type": "code",
   "execution_count": 9,
   "id": "7a34bc26-d3b9-4b54-b787-8bc2ef000436",
   "metadata": {},
   "outputs": [
    {
     "name": "stdout",
     "output_type": "stream",
     "text": [
      "('사과', '바나나', '딸기', '배')\n",
      "('사과', '바나나', '딸기', '배')\n"
     ]
    }
   ],
   "source": [
    "# 방법 1. 리스트로 변환\n",
    "fruits_01 = (\"사과\", \"바나나\", \"딸기\")\n",
    "fruits_01 = list(fruits_01)\n",
    "fruits_01.append(\"배\")\n",
    "fruits_01 = tuple(fruits_01)\n",
    "print(fruits_01)\n",
    "\n",
    "# 방법 2. 두개의 튜플 연산\n",
    "fruits02 = (\"사과\", \"바나나\", \"딸기\")\n",
    "add_fruit = (\"배\", )\n",
    "fruits02 = fruits02 + add_fruit\n",
    "print(fruits02)"
   ]
  },
  {
   "cell_type": "code",
   "execution_count": 2,
   "id": "799e3031-b45c-464b-8429-a3de7d8c6a79",
   "metadata": {},
   "outputs": [
    {
     "name": "stdout",
     "output_type": "stream",
     "text": [
      "바나나\n",
      "('사과', '바나나')\n"
     ]
    }
   ],
   "source": [
    "fruits = (\"사과\", \"바나나\", \"딸기\")\n",
    "print(fruits[1])\n",
    "print(fruits[0:2])"
   ]
  }
 ],
 "metadata": {
  "kernelspec": {
   "display_name": "Python 3 (ipykernel)",
   "language": "python",
   "name": "python3"
  },
  "language_info": {
   "codemirror_mode": {
    "name": "ipython",
    "version": 3
   },
   "file_extension": ".py",
   "mimetype": "text/x-python",
   "name": "python",
   "nbconvert_exporter": "python",
   "pygments_lexer": "ipython3",
   "version": "3.8.0"
  }
 },
 "nbformat": 4,
 "nbformat_minor": 5
}
