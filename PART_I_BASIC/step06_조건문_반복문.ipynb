{
 "cells": [
  {
   "cell_type": "markdown",
   "id": "32083168-2a79-4dc1-ad1f-abcea71381ce",
   "metadata": {},
   "source": [
    "## 조건문"
   ]
  },
  {
   "cell_type": "code",
   "execution_count": 1,
   "id": "2f012cb3-ee4b-4bd1-a4d1-32f24775071a",
   "metadata": {},
   "outputs": [
    {
     "name": "stdout",
     "output_type": "stream",
     "text": [
      "불합격\n"
     ]
    }
   ],
   "source": [
    "score = 90\n",
    "if score > 90:\n",
    "    print(\"합격\")\n",
    "else: \n",
    "    print(\"불합격\")"
   ]
  },
  {
   "cell_type": "code",
   "execution_count": 5,
   "id": "4d52b76b-9a7b-4bf2-968b-af6eaaf7350f",
   "metadata": {},
   "outputs": [
    {
     "name": "stdout",
     "output_type": "stream",
     "text": [
      "불합격\n"
     ]
    }
   ],
   "source": [
    "score = 90\n",
    "print(\"합격\") if score > 90 else print(\"불합격\")"
   ]
  },
  {
   "cell_type": "code",
   "execution_count": 6,
   "id": "762ea038-8329-46a8-928c-8817ef4c6ad0",
   "metadata": {},
   "outputs": [
    {
     "name": "stdout",
     "output_type": "stream",
     "text": [
      "중\n"
     ]
    }
   ],
   "source": [
    "score = 90\n",
    "if score > 90:\n",
    "    print(\"상\")\n",
    "elif score > 80: \n",
    "    print(\"중\")\n",
    "else: \n",
    "    print(\"하\")"
   ]
  },
  {
   "cell_type": "code",
   "execution_count": 8,
   "id": "4f021209-bf5a-431f-a378-a1a290d4e787",
   "metadata": {},
   "outputs": [
    {
     "name": "stdout",
     "output_type": "stream",
     "text": [
      "중\n"
     ]
    }
   ],
   "source": [
    "score = 90\n",
    "print(\"상\") if score > 90 else print(\"중\") if score > 80 else print(\"하\")"
   ]
  },
  {
   "cell_type": "code",
   "execution_count": 14,
   "id": "918c8aac-b2c7-4e0a-88e4-7794aa7f7659",
   "metadata": {},
   "outputs": [
    {
     "name": "stdin",
     "output_type": "stream",
     "text": [
      "숫자를 입력하여 주세요.... 91\n"
     ]
    },
    {
     "name": "stdout",
     "output_type": "stream",
     "text": [
      "상\n"
     ]
    }
   ],
   "source": [
    "score = int(input(\"숫자를 입력하여 주세요....\"))\n",
    "print(\"상\") if score > 90 else print(\"중\") if score > 80 else print(\"하\")"
   ]
  },
  {
   "cell_type": "code",
   "execution_count": 15,
   "id": "44e518b6-4044-44bb-b82e-63f343d6955c",
   "metadata": {},
   "outputs": [
    {
     "name": "stdin",
     "output_type": "stream",
     "text": [
      "숫자를 입력하여 주세요.... 81\n"
     ]
    },
    {
     "name": "stdout",
     "output_type": "stream",
     "text": [
      "중\n"
     ]
    }
   ],
   "source": [
    "score = int(input(\"숫자를 입력하여 주세요....\"))\n",
    "print(\"상\") if score > 90 else print(\"중\") if score > 80 else print(\"하\")"
   ]
  },
  {
   "cell_type": "code",
   "execution_count": 16,
   "id": "c05e8373-f080-479a-9656-a1b484a7a93d",
   "metadata": {},
   "outputs": [
    {
     "name": "stdin",
     "output_type": "stream",
     "text": [
      "숫자를 입력하여 주세요.... 30\n"
     ]
    },
    {
     "name": "stdout",
     "output_type": "stream",
     "text": [
      "하\n"
     ]
    }
   ],
   "source": [
    "score = int(input(\"숫자를 입력하여 주세요....\"))\n",
    "print(\"상\") if score > 90 else print(\"중\") if score > 80 else print(\"하\")"
   ]
  }
 ],
 "metadata": {
  "kernelspec": {
   "display_name": "Python 3 (ipykernel)",
   "language": "python",
   "name": "python3"
  },
  "language_info": {
   "codemirror_mode": {
    "name": "ipython",
    "version": 3
   },
   "file_extension": ".py",
   "mimetype": "text/x-python",
   "name": "python",
   "nbconvert_exporter": "python",
   "pygments_lexer": "ipython3",
   "version": "3.8.0"
  }
 },
 "nbformat": 4,
 "nbformat_minor": 5
}
