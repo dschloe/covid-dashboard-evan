{
 "cells": [
  {
   "cell_type": "markdown",
   "id": "32083168-2a79-4dc1-ad1f-abcea71381ce",
   "metadata": {},
   "source": [
    "## 조건문"
   ]
  },
  {
   "cell_type": "code",
   "execution_count": 1,
   "id": "2f012cb3-ee4b-4bd1-a4d1-32f24775071a",
   "metadata": {},
   "outputs": [
    {
     "name": "stdout",
     "output_type": "stream",
     "text": [
      "불합격\n"
     ]
    }
   ],
   "source": [
    "score = 90\n",
    "if score > 90:\n",
    "    print(\"합격\")\n",
    "else: \n",
    "    print(\"불합격\")"
   ]
  },
  {
   "cell_type": "code",
   "execution_count": 5,
   "id": "4d52b76b-9a7b-4bf2-968b-af6eaaf7350f",
   "metadata": {},
   "outputs": [
    {
     "name": "stdout",
     "output_type": "stream",
     "text": [
      "불합격\n"
     ]
    }
   ],
   "source": [
    "score = 90\n",
    "print(\"합격\") if score > 90 else print(\"불합격\")"
   ]
  },
  {
   "cell_type": "code",
   "execution_count": 6,
   "id": "762ea038-8329-46a8-928c-8817ef4c6ad0",
   "metadata": {},
   "outputs": [
    {
     "name": "stdout",
     "output_type": "stream",
     "text": [
      "중\n"
     ]
    }
   ],
   "source": [
    "score = 90\n",
    "if score > 90:\n",
    "    print(\"상\")\n",
    "elif score > 80: \n",
    "    print(\"중\")\n",
    "else: \n",
    "    print(\"하\")"
   ]
  },
  {
   "cell_type": "code",
   "execution_count": 8,
   "id": "4f021209-bf5a-431f-a378-a1a290d4e787",
   "metadata": {},
   "outputs": [
    {
     "name": "stdout",
     "output_type": "stream",
     "text": [
      "중\n"
     ]
    }
   ],
   "source": [
    "score = 90\n",
    "print(\"상\") if score > 90 else print(\"중\") if score > 80 else print(\"하\")"
   ]
  },
  {
   "cell_type": "code",
   "execution_count": 14,
   "id": "918c8aac-b2c7-4e0a-88e4-7794aa7f7659",
   "metadata": {},
   "outputs": [
    {
     "name": "stdin",
     "output_type": "stream",
     "text": [
      "숫자를 입력하여 주세요.... 91\n"
     ]
    },
    {
     "name": "stdout",
     "output_type": "stream",
     "text": [
      "상\n"
     ]
    }
   ],
   "source": [
    "score = int(input(\"숫자를 입력하여 주세요....\"))\n",
    "print(\"상\") if score > 90 else print(\"중\") if score > 80 else print(\"하\")"
   ]
  },
  {
   "cell_type": "code",
   "execution_count": 15,
   "id": "44e518b6-4044-44bb-b82e-63f343d6955c",
   "metadata": {},
   "outputs": [
    {
     "name": "stdin",
     "output_type": "stream",
     "text": [
      "숫자를 입력하여 주세요.... 81\n"
     ]
    },
    {
     "name": "stdout",
     "output_type": "stream",
     "text": [
      "중\n"
     ]
    }
   ],
   "source": [
    "score = int(input(\"숫자를 입력하여 주세요....\"))\n",
    "print(\"상\") if score > 90 else print(\"중\") if score > 80 else print(\"하\")"
   ]
  },
  {
   "cell_type": "code",
   "execution_count": 16,
   "id": "c05e8373-f080-479a-9656-a1b484a7a93d",
   "metadata": {},
   "outputs": [
    {
     "name": "stdin",
     "output_type": "stream",
     "text": [
      "숫자를 입력하여 주세요.... 30\n"
     ]
    },
    {
     "name": "stdout",
     "output_type": "stream",
     "text": [
      "하\n"
     ]
    }
   ],
   "source": [
    "score = int(input(\"숫자를 입력하여 주세요....\"))\n",
    "print(\"상\") if score > 90 else print(\"중\") if score > 80 else print(\"하\")"
   ]
  },
  {
   "cell_type": "markdown",
   "id": "e6f7a0c6-93b8-4b4a-ae0f-d1e5290035b2",
   "metadata": {},
   "source": [
    "## 다중 조건식"
   ]
  },
  {
   "cell_type": "code",
   "execution_count": 4,
   "id": "9afff38a-637e-46c1-8782-0b6c4ea97bcc",
   "metadata": {},
   "outputs": [
    {
     "name": "stdout",
     "output_type": "stream",
     "text": [
      "Bus\n"
     ]
    }
   ],
   "source": [
    "money = 4000\n",
    "isCard = True\n",
    "if money >= 40000 and isCard:\n",
    "    print(\"KTX\")\n",
    "elif money <= 40000 or isCard:\n",
    "    print(\"Bus\")\n",
    "else:\n",
    "    print(\"No Travel\")"
   ]
  },
  {
   "cell_type": "markdown",
   "id": "349ed257-fea1-4f8c-9c59-ea689d1109e1",
   "metadata": {},
   "source": [
    "## For Loop"
   ]
  },
  {
   "cell_type": "code",
   "execution_count": 7,
   "id": "aaf72c69-7cde-4114-a11b-f4342a1689d7",
   "metadata": {},
   "outputs": [
    {
     "name": "stdout",
     "output_type": "stream",
     "text": [
      "1번 학생 합격.\n",
      "2번 학생 불합격.\n",
      "3번 학생 합격.\n",
      "4번 학생 불합격.\n",
      "5번 학생 합격.\n"
     ]
    }
   ],
   "source": [
    "scores = [90, 25, 67, 45, 80]\n",
    "\n",
    "number = 0 \n",
    "for score in scores: \n",
    "    number = number +1 \n",
    "    if score >= 60: \n",
    "        print(\"%d번 학생 합격.\" % number)\n",
    "    else: \n",
    "        print(\"%d번 학생 불합격.\" % number)"
   ]
  },
  {
   "cell_type": "markdown",
   "id": "85c973e0-6598-40a5-b3dc-4b49fd8ce779",
   "metadata": {},
   "source": [
    "## For While "
   ]
  },
  {
   "cell_type": "code",
   "execution_count": 8,
   "id": "964db8d5-936d-4e5b-95c0-253c698b2165",
   "metadata": {},
   "outputs": [
    {
     "name": "stdout",
     "output_type": "stream",
     "text": [
      "1번 학생 합격.\n",
      "2번 학생 합격.\n",
      "3번 학생 합격.\n",
      "4번 학생 합격.\n",
      "5번 학생 합격.\n"
     ]
    }
   ],
   "source": [
    "scores = [90, 25, 67, 45, 80]\n",
    "\n",
    "number = 0 \n",
    "while number < 5:\n",
    "    number = number + 1 \n",
    "    if score >= 60: \n",
    "        print(\"%d번 학생 합격.\" % number)\n",
    "    else: \n",
    "        print(\"%d번 학생 불합격.\" % number)"
   ]
  },
  {
   "cell_type": "markdown",
   "id": "57ae2894-a290-464e-89db-8783d01ef6ff",
   "metadata": {
    "tags": []
   },
   "source": [
    "## For Loop 활용"
   ]
  },
  {
   "cell_type": "code",
   "execution_count": 10,
   "id": "774b91e9-d6c3-4a69-945a-7a0368eb8975",
   "metadata": {},
   "outputs": [
    {
     "name": "stdout",
     "output_type": "stream",
     "text": [
      "[4, 8, 12]\n"
     ]
    }
   ],
   "source": [
    "num_list = [1, 2, 3]\n",
    "result = []\n",
    "for num in num_list:\n",
    "    result.append(num * 4)\n",
    "print(result)"
   ]
  },
  {
   "cell_type": "markdown",
   "id": "0a134e64-533c-4344-acc4-d87419ddd810",
   "metadata": {},
   "source": [
    "## List Comprehension"
   ]
  },
  {
   "cell_type": "code",
   "execution_count": 12,
   "id": "2373d370-07e3-4153-8b63-51174a27ae76",
   "metadata": {},
   "outputs": [
    {
     "name": "stdout",
     "output_type": "stream",
     "text": [
      "[4, 8, 12]\n"
     ]
    }
   ],
   "source": [
    "num_list = [1, 2, 3]\n",
    "result = [num * 4 for num in num_list]\n",
    "print(result)"
   ]
  },
  {
   "cell_type": "code",
   "execution_count": 17,
   "id": "7b3d5698-fe92-450f-bd4a-15a2f1bfaf43",
   "metadata": {},
   "outputs": [
    {
     "name": "stdout",
     "output_type": "stream",
     "text": [
      "[8, 16]\n",
      "[1, 8, 3, 16]\n"
     ]
    }
   ],
   "source": [
    "num_list = [1, 2, 3, 4]\n",
    "result_01 = [num * 4 for num in num_list if num%2 == 0]\n",
    "print(result_01)\n",
    "\n",
    "result_02 = [num * 4 if num%2 == 0 else num for num in num_list]\n",
    "print(result_02)"
   ]
  },
  {
   "cell_type": "code",
   "execution_count": null,
   "id": "95b31aa9-bd5b-4d3c-9275-765c8fe947d8",
   "metadata": {},
   "outputs": [],
   "source": []
  }
 ],
 "metadata": {
  "kernelspec": {
   "display_name": "Python 3 (ipykernel)",
   "language": "python",
   "name": "python3"
  },
  "language_info": {
   "codemirror_mode": {
    "name": "ipython",
    "version": 3
   },
   "file_extension": ".py",
   "mimetype": "text/x-python",
   "name": "python",
   "nbconvert_exporter": "python",
   "pygments_lexer": "ipython3",
   "version": "3.8.0"
  }
 },
 "nbformat": 4,
 "nbformat_minor": 5
}
