{
 "cells": [
  {
   "cell_type": "markdown",
   "id": "3988d7ed-8802-4c4d-a9ea-d5f45a3f971e",
   "metadata": {},
   "source": [
    "# Scalar 데이터 타입"
   ]
  },
  {
   "cell_type": "markdown",
   "id": "031f51be-ddeb-445e-a173-bdc28ef7e322",
   "metadata": {},
   "source": [
    "## int형"
   ]
  },
  {
   "cell_type": "code",
   "execution_count": 6,
   "id": "a86bfcac-118f-4833-9056-cbf86db3eff5",
   "metadata": {},
   "outputs": [
    {
     "name": "stdout",
     "output_type": "stream",
     "text": [
      "10\n",
      "<class 'int'>\n"
     ]
    }
   ],
   "source": [
    "num = 10\n",
    "print(num)\n",
    "print(type(num))"
   ]
  },
  {
   "cell_type": "code",
   "execution_count": 5,
   "id": "a5d77ce9-0e63-489e-a87e-1d95a6750d98",
   "metadata": {},
   "outputs": [
    {
     "name": "stdout",
     "output_type": "stream",
     "text": [
      "10\n",
      "-1\n",
      "312\n"
     ]
    }
   ],
   "source": [
    "print(int(10.5))\n",
    "print(int(-1.5))\n",
    "print(int(\"312\"))"
   ]
  },
  {
   "cell_type": "markdown",
   "id": "cd24fc67-86bb-4fb1-9f32-90b687f4e47e",
   "metadata": {},
   "source": [
    "## float형"
   ]
  },
  {
   "cell_type": "code",
   "execution_count": 8,
   "id": "a729348b-1814-4077-8dbf-00291fe9626b",
   "metadata": {},
   "outputs": [
    {
     "name": "stdout",
     "output_type": "stream",
     "text": [
      "10.1234\n",
      "<class 'float'>\n"
     ]
    }
   ],
   "source": [
    "float_num = 10.1234\n",
    "print(float_num)\n",
    "print(type(float_num))"
   ]
  },
  {
   "cell_type": "code",
   "execution_count": 10,
   "id": "01a3d005-47fa-4f87-9af6-89cf4fa115ae",
   "metadata": {},
   "outputs": [
    {
     "name": "stdout",
     "output_type": "stream",
     "text": [
      "3.0\n",
      "3.14\n"
     ]
    }
   ],
   "source": [
    "print(float(3))\n",
    "print(float(\"3.14\"))"
   ]
  },
  {
   "cell_type": "code",
   "execution_count": 12,
   "id": "cf83265c-d9ab-4a70-a072-6fab96353341",
   "metadata": {},
   "outputs": [
    {
     "data": {
      "text/plain": [
       "3.0"
      ]
     },
     "execution_count": 12,
     "metadata": {},
     "output_type": "execute_result"
    }
   ],
   "source": [
    "1 + 2.0"
   ]
  },
  {
   "cell_type": "markdown",
   "id": "a6260b4a-ec41-4e6f-8577-00d919b87331",
   "metadata": {},
   "source": [
    "## None 자료형"
   ]
  },
  {
   "cell_type": "code",
   "execution_count": 16,
   "id": "e05e07ee-d411-4400-842d-0fbffdd3c288",
   "metadata": {},
   "outputs": [
    {
     "name": "stdout",
     "output_type": "stream",
     "text": [
      "None\n",
      "<class 'NoneType'>\n"
     ]
    }
   ],
   "source": [
    "a = None\n",
    "print(a)\n",
    "print(type(a))"
   ]
  },
  {
   "cell_type": "code",
   "execution_count": 19,
   "id": "0d5e47c6-3fe2-486d-9859-9cd6231272aa",
   "metadata": {},
   "outputs": [
    {
     "data": {
      "text/plain": [
       "True"
      ]
     },
     "execution_count": 19,
     "metadata": {},
     "output_type": "execute_result"
    }
   ],
   "source": [
    "a is None"
   ]
  },
  {
   "cell_type": "markdown",
   "id": "7b56f84e-de1c-4d73-8e72-041ad67c0124",
   "metadata": {},
   "source": [
    "# Bool 자료형"
   ]
  },
  {
   "cell_type": "code",
   "execution_count": 25,
   "id": "ecc68230-f4ef-4380-9d44-13096cdeae33",
   "metadata": {},
   "outputs": [
    {
     "name": "stdout",
     "output_type": "stream",
     "text": [
      "False\n",
      "True\n",
      "False\n",
      "True\n",
      "False\n",
      "True\n",
      "False\n"
     ]
    }
   ],
   "source": [
    "print(bool(0))\n",
    "print(bool(1))\n",
    "print(bool([]))\n",
    "print(bool([1, 2]))\n",
    "print(bool({}))\n",
    "print(bool({'a': 1}))\n",
    "print(bool(None))"
   ]
  }
 ],
 "metadata": {
  "kernelspec": {
   "display_name": "Python 3 (ipykernel)",
   "language": "python",
   "name": "python3"
  },
  "language_info": {
   "codemirror_mode": {
    "name": "ipython",
    "version": 3
   },
   "file_extension": ".py",
   "mimetype": "text/x-python",
   "name": "python",
   "nbconvert_exporter": "python",
   "pygments_lexer": "ipython3",
   "version": "3.8.0"
  }
 },
 "nbformat": 4,
 "nbformat_minor": 5
}
