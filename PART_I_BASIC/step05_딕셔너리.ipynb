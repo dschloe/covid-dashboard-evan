{
 "cells": [
  {
   "cell_type": "markdown",
   "id": "5e69b01c-8ba5-4c7c-b3ca-63bedde1f7fe",
   "metadata": {},
   "source": [
    "## 딕셔너리 생성"
   ]
  },
  {
   "cell_type": "code",
   "execution_count": 2,
   "id": "d8eadbc8-fe04-4ae3-af51-d96593b1a2bb",
   "metadata": {},
   "outputs": [
    {
     "data": {
      "text/plain": [
       "{'name': '홍길동', 'phone': '010-1234-5678', 'birthday': '1990년 10월 1일'}"
      ]
     },
     "execution_count": 2,
     "metadata": {},
     "output_type": "execute_result"
    }
   ],
   "source": [
    "dict_01 = {\"name\" : \"홍길동\", \n",
    "           \"phone\" : \"010-1234-5678\", \n",
    "           \"birthday\" : \"1990년 10월 1일\"}\n",
    "dict_01"
   ]
  },
  {
   "cell_type": "code",
   "execution_count": 3,
   "id": "4ee0fca5-a672-456f-9a2e-a0c4310a89af",
   "metadata": {},
   "outputs": [
    {
     "data": {
      "text/plain": [
       "'홍길동'"
      ]
     },
     "execution_count": 3,
     "metadata": {},
     "output_type": "execute_result"
    }
   ],
   "source": [
    "dict_01['name']"
   ]
  },
  {
   "cell_type": "markdown",
   "id": "64857782-13f2-43a8-a806-9f434171dc5f",
   "metadata": {},
   "source": [
    "## 딕셔너리 & 리스트 "
   ]
  },
  {
   "cell_type": "code",
   "execution_count": 6,
   "id": "eda6cd54-75ec-4cee-9f17-64ae46efa9a2",
   "metadata": {},
   "outputs": [
    {
     "name": "stdout",
     "output_type": "stream",
     "text": [
      "{'name': '홍길동', 'phone': '010-1234-5678', 'birthday': '1990년 10월 1일', 'numbers': [1, 2, 3, 4]}\n",
      "dict_01['numbers']: [1, 2, 3, 4]\n"
     ]
    }
   ],
   "source": [
    "dict_01 = {\"name\" : \"홍길동\", \n",
    "           \"phone\" : \"010-1234-5678\", \n",
    "           \"birthday\" : \"1990년 10월 1일\", \n",
    "           \"numbers\" : [1, 2, 3, 4]}\n",
    "print(dict_01)\n",
    "print(\"dict_01['numbers']:\", dict_01[\"numbers\"])"
   ]
  },
  {
   "cell_type": "markdown",
   "id": "a304ccf0-ff4a-4313-ae91-f6c5ff0f3dfa",
   "metadata": {},
   "source": [
    "## 값 추가"
   ]
  },
  {
   "cell_type": "code",
   "execution_count": 9,
   "id": "8ff257c1-5027-479e-912b-311f19695fac",
   "metadata": {},
   "outputs": [
    {
     "name": "stdout",
     "output_type": "stream",
     "text": [
      "{'name': '홍길동', 'numbers': [1, 2, 3]}\n",
      "{'name': '홍길동', 'numbers': [1, 2, 3], 'value_string': '임의의 값'}\n",
      "{'name': '홍길동', 'numbers': [1, 2, 3], 'value_string': '임의의 값', 'value_tuple': (1, 2, 3)}\n"
     ]
    }
   ],
   "source": [
    "dict_01 = {\"name\" : \"홍길동\", \"numbers\" : [1, 2, 3]}\n",
    "print(dict_01)\n",
    "dict_01[\"value_string\"] = \"임의의 값\"\n",
    "print(dict_01)\n",
    "dict_01[\"value_tuple\"] = (1, 2, 3)\n",
    "print(dict_01)"
   ]
  },
  {
   "cell_type": "markdown",
   "id": "cb1b9495-ffe9-4fd0-8ae1-4ce932e03646",
   "metadata": {},
   "source": [
    "## Key 중복값"
   ]
  },
  {
   "cell_type": "code",
   "execution_count": 10,
   "id": "68028118-a7f0-44a6-aaf9-36ab5131cc24",
   "metadata": {},
   "outputs": [
    {
     "name": "stdout",
     "output_type": "stream",
     "text": [
      "{'name': '김길동'}\n"
     ]
    }
   ],
   "source": [
    "dict_01 = {\"name\" : \"홍길동\", \"name\" : \"김길동\"}\n",
    "print(dict_01)"
   ]
  },
  {
   "cell_type": "markdown",
   "id": "cdbf1fd5-38e3-46da-9517-19118c8c78dc",
   "metadata": {},
   "source": [
    "## Key 삭제"
   ]
  },
  {
   "cell_type": "code",
   "execution_count": 18,
   "id": "081ee030-771e-4192-9353-582c6306495a",
   "metadata": {},
   "outputs": [
    {
     "name": "stdout",
     "output_type": "stream",
     "text": [
      "{'name': '김길동', 'phone': '010-1234-5678', 'birthday': '1990년 10월 1일', 'sales': [30, 60]}\n",
      "{'phone': '010-1234-5678', 'birthday': '1990년 10월 1일', 'sales': [30, 60]}\n",
      "{'birthday': '1990년 10월 1일', 'sales': [30, 60]}\n",
      "{}\n"
     ]
    }
   ],
   "source": [
    "dict_01 = {\"name\" : \"홍길동\", \n",
    "           \"phone\" : \"010-1234-5678\",  \n",
    "           \"birthday\" : \"1990년 10월 1일\", \n",
    "           \"sales\" : [30, 60]}\n",
    "\n",
    "dict_01[\"name\"] = \"김길동\"\n",
    "print(dict_01)\n",
    "\n",
    "# pop( )\n",
    "dict_01.pop(\"name\")\n",
    "print(dict_01)\n",
    "\n",
    "# del\n",
    "del dict_01['phone']\n",
    "print(dict_01)\n",
    "\n",
    "dict_01.clear()\n",
    "print(dict_01)"
   ]
  }
 ],
 "metadata": {
  "kernelspec": {
   "display_name": "Python 3 (ipykernel)",
   "language": "python",
   "name": "python3"
  },
  "language_info": {
   "codemirror_mode": {
    "name": "ipython",
    "version": 3
   },
   "file_extension": ".py",
   "mimetype": "text/x-python",
   "name": "python",
   "nbconvert_exporter": "python",
   "pygments_lexer": "ipython3",
   "version": "3.8.0"
  }
 },
 "nbformat": 4,
 "nbformat_minor": 5
}
