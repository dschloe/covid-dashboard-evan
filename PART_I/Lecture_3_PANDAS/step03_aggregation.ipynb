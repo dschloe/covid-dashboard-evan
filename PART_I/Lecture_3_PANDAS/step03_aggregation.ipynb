{
 "cells": [
  {
   "cell_type": "markdown",
   "id": "2d270f37",
   "metadata": {},
   "source": [
    "## Group by"
   ]
  },
  {
   "cell_type": "code",
   "execution_count": 3,
   "id": "88bc3946",
   "metadata": {},
   "outputs": [
    {
     "name": "stdout",
     "output_type": "stream",
     "text": [
      "1.3.4\n"
     ]
    }
   ],
   "source": [
    "import pandas as pd \n",
    "print(pd.__version__)"
   ]
  },
  {
   "cell_type": "code",
   "execution_count": 4,
   "id": "7508c5d1",
   "metadata": {},
   "outputs": [
    {
     "name": "stdout",
     "output_type": "stream",
     "text": [
      "    Invoice ID Branch       City Customer type  Gender  \\\n",
      "0  750-67-8428      A     Yangon        Member  Female   \n",
      "1  226-31-3081      C  Naypyitaw        Normal  Female   \n",
      "2  631-41-3108      A     Yangon        Normal    Male   \n",
      "\n",
      "             Product line  Unit price  Quantity      Date   Time      Payment  \n",
      "0       Health and beauty       74.69         7  1/5/2019  13:08      Ewallet  \n",
      "1  Electronic accessories       15.28         5  3/8/2019  10:29         Cash  \n",
      "2      Home and lifestyle       46.33         7  3/3/2019  13:23  Credit card  \n"
     ]
    }
   ],
   "source": [
    "sales = pd.read_csv(\"data/supermarket_sales.csv\")\n",
    "print(sales.head(3))"
   ]
  },
  {
   "cell_type": "code",
   "execution_count": 5,
   "id": "9fa5e250",
   "metadata": {},
   "outputs": [
    {
     "data": {
      "text/plain": [
       "Product line\n",
       "Electronic accessories    170\n",
       "Fashion accessories       178\n",
       "Food and beverages        174\n",
       "Health and beauty         152\n",
       "Home and lifestyle        160\n",
       "Sports and travel         166\n",
       "Name: Quantity, dtype: int64"
      ]
     },
     "execution_count": 5,
     "metadata": {},
     "output_type": "execute_result"
    }
   ],
   "source": [
    "sales.groupby('Product line')['Quantity'].count()"
   ]
  },
  {
   "cell_type": "code",
   "execution_count": 6,
   "id": "4789f94e",
   "metadata": {},
   "outputs": [
    {
     "data": {
      "text/plain": [
       "Product line\n",
       "Electronic accessories    170\n",
       "Fashion accessories       178\n",
       "Food and beverages        174\n",
       "Health and beauty         152\n",
       "Home and lifestyle        160\n",
       "Sports and travel         166\n",
       "Name: Quantity, dtype: int64"
      ]
     },
     "execution_count": 6,
     "metadata": {},
     "output_type": "execute_result"
    }
   ],
   "source": [
    "sales.groupby('Product line', sort=True)['Quantity'].count()"
   ]
  },
  {
   "cell_type": "code",
   "execution_count": 7,
   "id": "a202bb6a",
   "metadata": {},
   "outputs": [
    {
     "data": {
      "text/plain": [
       "Branch  Payment    \n",
       "A       Cash           110\n",
       "        Credit card    104\n",
       "        Ewallet        126\n",
       "B       Cash           110\n",
       "        Credit card    109\n",
       "        Ewallet        113\n",
       "C       Cash           124\n",
       "        Credit card     98\n",
       "        Ewallet        106\n",
       "Name: Quantity, dtype: int64"
      ]
     },
     "execution_count": 7,
     "metadata": {},
     "output_type": "execute_result"
    }
   ],
   "source": [
    "sales.groupby(['Branch', 'Payment'])['Quantity'].count()"
   ]
  },
  {
   "cell_type": "code",
   "execution_count": 8,
   "id": "53af7160",
   "metadata": {},
   "outputs": [
    {
     "data": {
      "text/html": [
       "<div>\n",
       "<style scoped>\n",
       "    .dataframe tbody tr th:only-of-type {\n",
       "        vertical-align: middle;\n",
       "    }\n",
       "\n",
       "    .dataframe tbody tr th {\n",
       "        vertical-align: top;\n",
       "    }\n",
       "\n",
       "    .dataframe thead th {\n",
       "        text-align: right;\n",
       "    }\n",
       "</style>\n",
       "<table border=\"1\" class=\"dataframe\">\n",
       "  <thead>\n",
       "    <tr style=\"text-align: right;\">\n",
       "      <th></th>\n",
       "      <th>Branch</th>\n",
       "      <th>Payment</th>\n",
       "      <th>Quantity</th>\n",
       "    </tr>\n",
       "  </thead>\n",
       "  <tbody>\n",
       "    <tr>\n",
       "      <th>0</th>\n",
       "      <td>A</td>\n",
       "      <td>Cash</td>\n",
       "      <td>110</td>\n",
       "    </tr>\n",
       "    <tr>\n",
       "      <th>1</th>\n",
       "      <td>A</td>\n",
       "      <td>Credit card</td>\n",
       "      <td>104</td>\n",
       "    </tr>\n",
       "    <tr>\n",
       "      <th>2</th>\n",
       "      <td>A</td>\n",
       "      <td>Ewallet</td>\n",
       "      <td>126</td>\n",
       "    </tr>\n",
       "    <tr>\n",
       "      <th>3</th>\n",
       "      <td>B</td>\n",
       "      <td>Cash</td>\n",
       "      <td>110</td>\n",
       "    </tr>\n",
       "    <tr>\n",
       "      <th>4</th>\n",
       "      <td>B</td>\n",
       "      <td>Credit card</td>\n",
       "      <td>109</td>\n",
       "    </tr>\n",
       "    <tr>\n",
       "      <th>5</th>\n",
       "      <td>B</td>\n",
       "      <td>Ewallet</td>\n",
       "      <td>113</td>\n",
       "    </tr>\n",
       "    <tr>\n",
       "      <th>6</th>\n",
       "      <td>C</td>\n",
       "      <td>Cash</td>\n",
       "      <td>124</td>\n",
       "    </tr>\n",
       "    <tr>\n",
       "      <th>7</th>\n",
       "      <td>C</td>\n",
       "      <td>Credit card</td>\n",
       "      <td>98</td>\n",
       "    </tr>\n",
       "    <tr>\n",
       "      <th>8</th>\n",
       "      <td>C</td>\n",
       "      <td>Ewallet</td>\n",
       "      <td>106</td>\n",
       "    </tr>\n",
       "  </tbody>\n",
       "</table>\n",
       "</div>"
      ],
      "text/plain": [
       "  Branch      Payment  Quantity\n",
       "0      A         Cash       110\n",
       "1      A  Credit card       104\n",
       "2      A      Ewallet       126\n",
       "3      B         Cash       110\n",
       "4      B  Credit card       109\n",
       "5      B      Ewallet       113\n",
       "6      C         Cash       124\n",
       "7      C  Credit card        98\n",
       "8      C      Ewallet       106"
      ]
     },
     "execution_count": 8,
     "metadata": {},
     "output_type": "execute_result"
    }
   ],
   "source": [
    "sales.groupby(['Branch', 'Payment'], as_index=False)['Quantity'].count()"
   ]
  },
  {
   "cell_type": "markdown",
   "id": "27e9a3cf",
   "metadata": {},
   "source": [
    "## Groupby 작동 원리"
   ]
  },
  {
   "cell_type": "code",
   "execution_count": 9,
   "id": "e44019ee",
   "metadata": {},
   "outputs": [
    {
     "name": "stdout",
     "output_type": "stream",
     "text": [
      "<pandas.core.groupby.generic.DataFrameGroupBy object at 0x7fe9106a65b0>\n"
     ]
    }
   ],
   "source": [
    "by_payment = sales.groupby(\"Payment\")\n",
    "print(by_payment)"
   ]
  },
  {
   "cell_type": "code",
   "execution_count": 10,
   "id": "e6db98cd",
   "metadata": {},
   "outputs": [
    {
     "name": "stdout",
     "output_type": "stream",
     "text": [
      "head(2) for 'Cash'\n",
      "-----\n",
      "     Invoice ID Branch       City Payment\n",
      "1   226-31-3081      C  Naypyitaw    Cash\n",
      "11  529-56-3974      B   Mandalay    Cash\n",
      "\n",
      "head(2) for 'Credit card'\n",
      "-----\n",
      "    Invoice ID Branch    City      Payment\n",
      "2  631-41-3108      A  Yangon  Credit card\n",
      "8  665-32-9167      A  Yangon  Credit card\n",
      "\n",
      "head(2) for 'Ewallet'\n",
      "-----\n",
      "    Invoice ID Branch    City  Payment\n",
      "0  750-67-8428      A  Yangon  Ewallet\n",
      "3  123-19-1176      A  Yangon  Ewallet\n",
      "\n"
     ]
    }
   ],
   "source": [
    "for payment, frame in by_payment:\n",
    "    print(f\"head(2) for {payment!r}\")\n",
    "    print(\"-----\")\n",
    "    print(frame[['Invoice ID', 'Branch', 'City', 'Payment']].head(2), end=\"\\n\\n\")"
   ]
  },
  {
   "cell_type": "code",
   "execution_count": 11,
   "id": "5944e7f0",
   "metadata": {},
   "outputs": [
    {
     "name": "stdout",
     "output_type": "stream",
     "text": [
      "      Invoice ID Branch       City Customer type  Gender  \\\n",
      "1    226-31-3081      C  Naypyitaw        Normal  Female   \n",
      "11   529-56-3974      B   Mandalay        Member    Male   \n",
      "14   829-34-3910      A     Yangon        Normal  Female   \n",
      "15   299-46-1805      B   Mandalay        Member  Female   \n",
      "26   649-29-6775      B   Mandalay        Normal    Male   \n",
      "..           ...    ...        ...           ...     ...   \n",
      "983  148-41-7930      C  Naypyitaw        Normal    Male   \n",
      "984  189-40-5216      C  Naypyitaw        Normal    Male   \n",
      "997  727-02-1313      A     Yangon        Member    Male   \n",
      "998  347-56-2442      A     Yangon        Normal    Male   \n",
      "999  849-09-3807      A     Yangon        Member  Female   \n",
      "\n",
      "               Product line  Unit price  Quantity       Date   Time Payment  \n",
      "1    Electronic accessories       15.28         5   3/8/2019  10:29    Cash  \n",
      "11   Electronic accessories       25.51         4   3/9/2019  17:03    Cash  \n",
      "14        Health and beauty       71.38        10  3/29/2019  19:21    Cash  \n",
      "15        Sports and travel       93.72         6  1/15/2019  16:19    Cash  \n",
      "26      Fashion accessories       33.52         1   2/8/2019  15:31    Cash  \n",
      "..                      ...         ...       ...        ...    ...     ...  \n",
      "983       Health and beauty       99.96         7  1/23/2019  10:33    Cash  \n",
      "984  Electronic accessories       96.37         7   1/9/2019  11:40    Cash  \n",
      "997      Food and beverages       31.84         1   2/9/2019  13:22    Cash  \n",
      "998      Home and lifestyle       65.82         1  2/22/2019  15:33    Cash  \n",
      "999     Fashion accessories       88.34         7  2/18/2019  13:28    Cash  \n",
      "\n",
      "[344 rows x 11 columns]\n"
     ]
    }
   ],
   "source": [
    "print(by_payment.get_group('Cash'))"
   ]
  },
  {
   "cell_type": "code",
   "execution_count": 12,
   "id": "d0c5086b",
   "metadata": {},
   "outputs": [
    {
     "name": "stdout",
     "output_type": "stream",
     "text": [
      "      Invoice ID Branch       City Customer type  Gender  \\\n",
      "1    226-31-3081      C  Naypyitaw        Normal  Female   \n",
      "11   529-56-3974      B   Mandalay        Member    Male   \n",
      "14   829-34-3910      A     Yangon        Normal  Female   \n",
      "15   299-46-1805      B   Mandalay        Member  Female   \n",
      "26   649-29-6775      B   Mandalay        Normal    Male   \n",
      "..           ...    ...        ...           ...     ...   \n",
      "983  148-41-7930      C  Naypyitaw        Normal    Male   \n",
      "984  189-40-5216      C  Naypyitaw        Normal    Male   \n",
      "997  727-02-1313      A     Yangon        Member    Male   \n",
      "998  347-56-2442      A     Yangon        Normal    Male   \n",
      "999  849-09-3807      A     Yangon        Member  Female   \n",
      "\n",
      "               Product line  Unit price  Quantity       Date   Time Payment  \n",
      "1    Electronic accessories       15.28         5   3/8/2019  10:29    Cash  \n",
      "11   Electronic accessories       25.51         4   3/9/2019  17:03    Cash  \n",
      "14        Health and beauty       71.38        10  3/29/2019  19:21    Cash  \n",
      "15        Sports and travel       93.72         6  1/15/2019  16:19    Cash  \n",
      "26      Fashion accessories       33.52         1   2/8/2019  15:31    Cash  \n",
      "..                      ...         ...       ...        ...    ...     ...  \n",
      "983       Health and beauty       99.96         7  1/23/2019  10:33    Cash  \n",
      "984  Electronic accessories       96.37         7   1/9/2019  11:40    Cash  \n",
      "997      Food and beverages       31.84         1   2/9/2019  13:22    Cash  \n",
      "998      Home and lifestyle       65.82         1  2/22/2019  15:33    Cash  \n",
      "999     Fashion accessories       88.34         7  2/18/2019  13:28    Cash  \n",
      "\n",
      "[344 rows x 11 columns]\n"
     ]
    }
   ],
   "source": [
    "print(sales.loc[sales['Payment'] == \"Cash\"])"
   ]
  },
  {
   "cell_type": "markdown",
   "id": "1b75194f",
   "metadata": {},
   "source": []
  },
  {
   "cell_type": "code",
   "execution_count": 16,
   "id": "c7dd2f8d",
   "metadata": {},
   "outputs": [
    {
     "data": {
      "text/plain": [
       "Fashion accessories       178\n",
       "Food and beverages        174\n",
       "Electronic accessories    170\n",
       "Sports and travel         166\n",
       "Home and lifestyle        160\n",
       "Health and beauty         152\n",
       "Name: Product line, dtype: int64"
      ]
     },
     "execution_count": 16,
     "metadata": {},
     "output_type": "execute_result"
    }
   ],
   "source": [
    "sales['Product line'].value_counts()"
   ]
  },
  {
   "cell_type": "code",
   "execution_count": 17,
   "id": "bfa3da74",
   "metadata": {},
   "outputs": [
    {
     "data": {
      "text/plain": [
       "Payment\n",
       "Ewallet        64\n",
       "Cash           51\n",
       "Credit card    45\n",
       "Name: Product line, dtype: int64"
      ]
     },
     "execution_count": 17,
     "metadata": {},
     "output_type": "execute_result"
    }
   ],
   "source": [
    "sales.groupby(\"Payment\", sort=False)['Product line'].apply(lambda ser : ser.str.contains(\"Home\").sum())"
   ]
  },
  {
   "cell_type": "markdown",
   "id": "cd858a65",
   "metadata": {},
   "source": [
    "## 참조\n",
    "- https://towardsdatascience.com/pandas-groupby-a-simple-but-detailed-tutorial-314b8f37005d"
   ]
  },
  {
   "cell_type": "code",
   "execution_count": 22,
   "id": "0eacb32c",
   "metadata": {},
   "outputs": [
    {
     "data": {
      "text/html": [
       "<div>\n",
       "<style scoped>\n",
       "    .dataframe tbody tr th:only-of-type {\n",
       "        vertical-align: middle;\n",
       "    }\n",
       "\n",
       "    .dataframe tbody tr th {\n",
       "        vertical-align: top;\n",
       "    }\n",
       "\n",
       "    .dataframe thead th {\n",
       "        text-align: right;\n",
       "    }\n",
       "</style>\n",
       "<table border=\"1\" class=\"dataframe\">\n",
       "  <thead>\n",
       "    <tr style=\"text-align: right;\">\n",
       "      <th></th>\n",
       "      <th>Branch</th>\n",
       "      <th>Payment</th>\n",
       "      <th>group_total</th>\n",
       "      <th>total count in each branch</th>\n",
       "      <th>% in each branch</th>\n",
       "    </tr>\n",
       "  </thead>\n",
       "  <tbody>\n",
       "    <tr>\n",
       "      <th>0</th>\n",
       "      <td>A</td>\n",
       "      <td>Cash</td>\n",
       "      <td>110</td>\n",
       "      <td>340</td>\n",
       "      <td>32.352941</td>\n",
       "    </tr>\n",
       "    <tr>\n",
       "      <th>1</th>\n",
       "      <td>A</td>\n",
       "      <td>Credit card</td>\n",
       "      <td>104</td>\n",
       "      <td>340</td>\n",
       "      <td>30.588235</td>\n",
       "    </tr>\n",
       "    <tr>\n",
       "      <th>2</th>\n",
       "      <td>A</td>\n",
       "      <td>Ewallet</td>\n",
       "      <td>126</td>\n",
       "      <td>340</td>\n",
       "      <td>37.058824</td>\n",
       "    </tr>\n",
       "    <tr>\n",
       "      <th>3</th>\n",
       "      <td>B</td>\n",
       "      <td>Cash</td>\n",
       "      <td>110</td>\n",
       "      <td>332</td>\n",
       "      <td>33.132530</td>\n",
       "    </tr>\n",
       "    <tr>\n",
       "      <th>4</th>\n",
       "      <td>B</td>\n",
       "      <td>Credit card</td>\n",
       "      <td>109</td>\n",
       "      <td>332</td>\n",
       "      <td>32.831325</td>\n",
       "    </tr>\n",
       "    <tr>\n",
       "      <th>5</th>\n",
       "      <td>B</td>\n",
       "      <td>Ewallet</td>\n",
       "      <td>113</td>\n",
       "      <td>332</td>\n",
       "      <td>34.036145</td>\n",
       "    </tr>\n",
       "    <tr>\n",
       "      <th>6</th>\n",
       "      <td>C</td>\n",
       "      <td>Cash</td>\n",
       "      <td>124</td>\n",
       "      <td>328</td>\n",
       "      <td>37.804878</td>\n",
       "    </tr>\n",
       "    <tr>\n",
       "      <th>7</th>\n",
       "      <td>C</td>\n",
       "      <td>Credit card</td>\n",
       "      <td>98</td>\n",
       "      <td>328</td>\n",
       "      <td>29.878049</td>\n",
       "    </tr>\n",
       "    <tr>\n",
       "      <th>8</th>\n",
       "      <td>C</td>\n",
       "      <td>Ewallet</td>\n",
       "      <td>106</td>\n",
       "      <td>328</td>\n",
       "      <td>32.317073</td>\n",
       "    </tr>\n",
       "  </tbody>\n",
       "</table>\n",
       "</div>"
      ],
      "text/plain": [
       "  Branch      Payment  group_total  total count in each branch  \\\n",
       "0      A         Cash          110                         340   \n",
       "1      A  Credit card          104                         340   \n",
       "2      A      Ewallet          126                         340   \n",
       "3      B         Cash          110                         332   \n",
       "4      B  Credit card          109                         332   \n",
       "5      B      Ewallet          113                         332   \n",
       "6      C         Cash          124                         328   \n",
       "7      C  Credit card           98                         328   \n",
       "8      C      Ewallet          106                         328   \n",
       "\n",
       "   % in each branch  \n",
       "0         32.352941  \n",
       "1         30.588235  \n",
       "2         37.058824  \n",
       "3         33.132530  \n",
       "4         32.831325  \n",
       "5         34.036145  \n",
       "6         37.804878  \n",
       "7         29.878049  \n",
       "8         32.317073  "
      ]
     },
     "execution_count": 22,
     "metadata": {},
     "output_type": "execute_result"
    }
   ],
   "source": [
    "tbl = sales.groupby(['Branch', 'Payment']).agg(group_total=('Payment', 'count')).reset_index()\n",
    "tbl['total count in each branch'] = tbl.groupby('Branch')['group_total'].transform(sum)\n",
    "tbl['% in each branch'] = (tbl['group_total'] * 100.0 / tbl['total count in each branch'])\n",
    "tbl"
   ]
  }
 ],
 "metadata": {
  "kernelspec": {
   "display_name": "Python 3 (ipykernel)",
   "language": "python",
   "name": "python3"
  },
  "language_info": {
   "codemirror_mode": {
    "name": "ipython",
    "version": 3
   },
   "file_extension": ".py",
   "mimetype": "text/x-python",
   "name": "python",
   "nbconvert_exporter": "python",
   "pygments_lexer": "ipython3",
   "version": "3.8.7"
  }
 },
 "nbformat": 4,
 "nbformat_minor": 5
}
