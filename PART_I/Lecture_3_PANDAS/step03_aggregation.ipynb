{
 "cells": [
  {
   "cell_type": "markdown",
   "id": "2d270f37",
   "metadata": {},
   "source": [
    "## Group by"
   ]
  },
  {
   "cell_type": "code",
   "execution_count": 2,
   "id": "88bc3946",
   "metadata": {},
   "outputs": [
    {
     "name": "stdout",
     "output_type": "stream",
     "text": [
      "1.4.1\n"
     ]
    }
   ],
   "source": [
    "import pandas as pd \n",
    "print(pd.__version__)"
   ]
  },
  {
   "cell_type": "code",
   "execution_count": 3,
   "id": "7508c5d1",
   "metadata": {},
   "outputs": [
    {
     "name": "stdout",
     "output_type": "stream",
     "text": [
      "    Invoice ID Branch       City Customer type  Gender  \\\n",
      "0  750-67-8428      A     Yangon        Member  Female   \n",
      "1  226-31-3081      C  Naypyitaw        Normal  Female   \n",
      "2  631-41-3108      A     Yangon        Normal    Male   \n",
      "\n",
      "             Product line  Unit price  Quantity      Date   Time      Payment  \n",
      "0       Health and beauty       74.69         7  1/5/2019  13:08      Ewallet  \n",
      "1  Electronic accessories       15.28         5  3/8/2019  10:29         Cash  \n",
      "2      Home and lifestyle       46.33         7  3/3/2019  13:23  Credit card  \n"
     ]
    }
   ],
   "source": [
    "sales = pd.read_csv(\"data/supermarket_sales.csv\")\n",
    "print(sales.head(3))"
   ]
  },
  {
   "cell_type": "code",
   "execution_count": 4,
   "id": "9fa5e250",
   "metadata": {},
   "outputs": [
    {
     "data": {
      "text/plain": [
       "Product line\n",
       "Electronic accessories    971\n",
       "Fashion accessories       902\n",
       "Food and beverages        952\n",
       "Health and beauty         854\n",
       "Home and lifestyle        911\n",
       "Sports and travel         920\n",
       "Name: Quantity, dtype: int64"
      ]
     },
     "execution_count": 4,
     "metadata": {},
     "output_type": "execute_result"
    }
   ],
   "source": [
    "sales.groupby('Product line')['Quantity'].sum()"
   ]
  },
  {
   "cell_type": "code",
   "execution_count": 5,
   "id": "a202bb6a",
   "metadata": {},
   "outputs": [
    {
     "data": {
      "text/plain": [
       "Branch  Payment    \n",
       "A       Cash           572\n",
       "        Credit card    580\n",
       "        Ewallet        707\n",
       "B       Cash           628\n",
       "        Credit card    599\n",
       "        Ewallet        593\n",
       "C       Cash           696\n",
       "        Credit card    543\n",
       "        Ewallet        592\n",
       "Name: Quantity, dtype: int64"
      ]
     },
     "execution_count": 5,
     "metadata": {},
     "output_type": "execute_result"
    }
   ],
   "source": [
    "sales.groupby(['Branch', 'Payment'])['Quantity'].sum()"
   ]
  },
  {
   "cell_type": "code",
   "execution_count": 6,
   "id": "0ad4ac2d-2b4a-4483-9aa5-af3f5e2a6f85",
   "metadata": {},
   "outputs": [
    {
     "data": {
      "text/plain": [
       "pandas.core.series.Series"
      ]
     },
     "execution_count": 6,
     "metadata": {},
     "output_type": "execute_result"
    }
   ],
   "source": [
    "type(sales.groupby(['Branch', 'Payment'])['Quantity'].sum())"
   ]
  },
  {
   "cell_type": "code",
   "execution_count": 24,
   "id": "53af7160",
   "metadata": {},
   "outputs": [
    {
     "name": "stdout",
     "output_type": "stream",
     "text": [
      "  Branch      Payment  Quantity\n",
      "0      A         Cash       572\n",
      "1      A  Credit card       580\n",
      "2      A      Ewallet       707\n",
      "3      B         Cash       628\n",
      "4      B  Credit card       599\n",
      "5      B      Ewallet       593\n",
      "6      C         Cash       696\n",
      "7      C  Credit card       543\n",
      "8      C      Ewallet       592\n"
     ]
    }
   ],
   "source": [
    "print(sales.groupby(['Branch', 'Payment'], as_index=False)['Quantity'].sum())"
   ]
  },
  {
   "cell_type": "code",
   "execution_count": 8,
   "id": "66a3c60d-6275-4221-82b7-28913ca5d05f",
   "metadata": {},
   "outputs": [
    {
     "data": {
      "text/plain": [
       "pandas.core.frame.DataFrame"
      ]
     },
     "execution_count": 8,
     "metadata": {},
     "output_type": "execute_result"
    }
   ],
   "source": [
    "type(sales.groupby(['Branch', 'Payment'], as_index=False)['Quantity'].sum())"
   ]
  },
  {
   "cell_type": "code",
   "execution_count": 32,
   "id": "97e85f7b-3327-4ccd-83d2-3419d1124fff",
   "metadata": {},
   "outputs": [
    {
     "name": "stdout",
     "output_type": "stream",
     "text": [
      "  Branch      Payment  sum      mean\n",
      "0      A         Cash  572  5.200000\n",
      "1      A  Credit card  580  5.576923\n",
      "2      A      Ewallet  707  5.611111\n",
      "3      B         Cash  628  5.709091\n",
      "4      B  Credit card  599  5.495413\n",
      "5      B      Ewallet  593  5.247788\n",
      "6      C         Cash  696  5.612903\n",
      "7      C  Credit card  543  5.540816\n",
      "8      C      Ewallet  592  5.584906\n"
     ]
    }
   ],
   "source": [
    "print(sales.groupby(['Branch', 'Payment'], as_index=False)['Quantity'].\\\n",
    "      agg(['sum', 'mean']).reset_index())"
   ]
  },
  {
   "cell_type": "code",
   "execution_count": 2,
   "id": "9fa7f5c1-d07b-4445-b384-798d50a3b2f0",
   "metadata": {},
   "outputs": [
    {
     "name": "stdout",
     "output_type": "stream",
     "text": [
      "   Score_A  Score_B  Score_C\n",
      "0     80.0     30.0      NaN\n",
      "1     90.0     45.0     50.0\n",
      "2      NaN      NaN     80.0\n",
      "3     80.0      NaN     90.0\n"
     ]
    }
   ],
   "source": [
    "import pandas as pd\n",
    "import numpy as np\n",
    "\n",
    "dict = {'Score_A':[80, 90, np.nan, 80],\n",
    "        'Score_B': [30, 45, np.nan, np.nan],\n",
    "        'Score_C':[np.nan, 50, 80, 90]}\n",
    "\n",
    "df = pd.DataFrame(dict)\n",
    "print(df)"
   ]
  },
  {
   "cell_type": "code",
   "execution_count": 42,
   "id": "6d641d72-e931-4437-a074-76e93965b824",
   "metadata": {},
   "outputs": [
    {
     "data": {
      "text/plain": [
       "Score_A    1\n",
       "Score_B    2\n",
       "Score_C    1\n",
       "dtype: int64"
      ]
     },
     "execution_count": 42,
     "metadata": {},
     "output_type": "execute_result"
    }
   ],
   "source": [
    "df.isnull().sum()"
   ]
  },
  {
   "cell_type": "code",
   "execution_count": 44,
   "id": "86c0aa07-b104-4b6c-b7ca-2bfd1fe9505f",
   "metadata": {},
   "outputs": [
    {
     "name": "stdout",
     "output_type": "stream",
     "text": [
      "   Score_A  Score_B  Score_C\n",
      "0     80.0     30.0      0.0\n",
      "1     90.0     45.0     50.0\n",
      "2      0.0      0.0     80.0\n",
      "3     80.0      0.0     90.0\n"
     ]
    }
   ],
   "source": [
    "print(df.fillna(0))"
   ]
  },
  {
   "cell_type": "code",
   "execution_count": 45,
   "id": "05af48cc-9ec1-4635-a871-2fd7597d5f13",
   "metadata": {},
   "outputs": [
    {
     "name": "stdout",
     "output_type": "stream",
     "text": [
      "   Score_A  Score_B  Score_C\n",
      "0     80.0     30.0      NaN\n",
      "1     90.0     45.0     50.0\n",
      "2     90.0     45.0     80.0\n",
      "3     80.0     45.0     90.0\n"
     ]
    }
   ],
   "source": [
    "print(df.fillna(method = \"pad\"))"
   ]
  },
  {
   "cell_type": "code",
   "execution_count": 4,
   "id": "62577053-b514-4370-9232-c170fb2dc868",
   "metadata": {},
   "outputs": [
    {
     "name": "stdout",
     "output_type": "stream",
     "text": [
      "  Gender  Salary\n",
      "0     남자      30\n",
      "1     여자      45\n",
      "2    NaN      90\n",
      "3     남자      70\n"
     ]
    }
   ],
   "source": [
    "dict = {'Gender':[\"남자\", \"여자\", np.nan, \"남자\"],\n",
    "        'Salary': [30, 45, 90, 70]}\n",
    "\n",
    "df = pd.DataFrame(dict)\n",
    "print(df)"
   ]
  },
  {
   "cell_type": "code",
   "execution_count": 6,
   "id": "76ef0a6d-9fe8-4e8f-8e65-9acbe1fa3675",
   "metadata": {},
   "outputs": [
    {
     "data": {
      "text/plain": [
       "0       남자\n",
       "1       여자\n",
       "2    성별 없음\n",
       "3       남자\n",
       "Name: Gender, dtype: object"
      ]
     },
     "execution_count": 6,
     "metadata": {},
     "output_type": "execute_result"
    }
   ],
   "source": [
    "df['Gender'].fillna(\"성별 없음\")"
   ]
  },
  {
   "cell_type": "code",
   "execution_count": 10,
   "id": "318679bb-3f23-4e83-bfc2-5e9248664e62",
   "metadata": {},
   "outputs": [
    {
     "name": "stdout",
     "output_type": "stream",
     "text": [
      "   Score_A  Score_B  Score_C  Score_D\n",
      "0     80.0     30.0      NaN       50\n",
      "1     90.0     45.0     50.0       30\n",
      "2      NaN      NaN     80.0       80\n",
      "3     80.0     70.0     90.0       60\n"
     ]
    }
   ],
   "source": [
    "dict = {'Score_A': [80, 90, np.nan, 80],\n",
    "        'Score_B': [30, 45, np.nan, 70],\n",
    "        'Score_C': [np.nan, 50, 80, 90], \n",
    "        'Score_D': [50, 30, 80, 60]}\n",
    "\n",
    "df = pd.DataFrame(dict)\n",
    "print(df)"
   ]
  },
  {
   "cell_type": "code",
   "execution_count": 13,
   "id": "96e18012-1e99-456c-8e65-64f06e2df6fa",
   "metadata": {},
   "outputs": [
    {
     "name": "stdout",
     "output_type": "stream",
     "text": [
      "   Score_D\n",
      "0       50\n",
      "1       30\n",
      "2       80\n",
      "3       60\n"
     ]
    }
   ],
   "source": [
    "print(df.dropna(axis = 1))"
   ]
  },
  {
   "cell_type": "code",
   "execution_count": 14,
   "id": "417a5fd7-3602-46b0-8e6a-3b29292a2ad3",
   "metadata": {},
   "outputs": [
    {
     "name": "stdout",
     "output_type": "stream",
     "text": [
      "   Score_A  Score_B  Score_C  Score_D\n",
      "1     90.0     45.0     50.0       30\n",
      "3     80.0     70.0     90.0       60\n"
     ]
    }
   ],
   "source": [
    "print(df.dropna(axis = 0))"
   ]
  },
  {
   "cell_type": "markdown",
   "id": "27e9a3cf",
   "metadata": {},
   "source": [
    "## Groupby 작동 원리"
   ]
  },
  {
   "cell_type": "code",
   "execution_count": 9,
   "id": "e44019ee",
   "metadata": {},
   "outputs": [
    {
     "name": "stdout",
     "output_type": "stream",
     "text": [
      "<pandas.core.groupby.generic.DataFrameGroupBy object at 0x0000019D6F0149D0>\n"
     ]
    }
   ],
   "source": [
    "by_payment = sales.groupby(\"Payment\")\n",
    "print(by_payment)"
   ]
  },
  {
   "cell_type": "code",
   "execution_count": 10,
   "id": "e6db98cd",
   "metadata": {},
   "outputs": [
    {
     "name": "stdout",
     "output_type": "stream",
     "text": [
      "head(2) for 'Cash'\n",
      "-----\n",
      "     Invoice ID Branch       City Payment\n",
      "1   226-31-3081      C  Naypyitaw    Cash\n",
      "11  529-56-3974      B   Mandalay    Cash\n",
      "\n",
      "head(2) for 'Credit card'\n",
      "-----\n",
      "    Invoice ID Branch    City      Payment\n",
      "2  631-41-3108      A  Yangon  Credit card\n",
      "8  665-32-9167      A  Yangon  Credit card\n",
      "\n",
      "head(2) for 'Ewallet'\n",
      "-----\n",
      "    Invoice ID Branch    City  Payment\n",
      "0  750-67-8428      A  Yangon  Ewallet\n",
      "3  123-19-1176      A  Yangon  Ewallet\n",
      "\n"
     ]
    }
   ],
   "source": [
    "for payment, frame in by_payment:\n",
    "    print(f\"head(2) for {payment!r}\")\n",
    "    print(\"-----\")\n",
    "    print(frame[['Invoice ID', 'Branch', 'City', 'Payment']].head(2), end=\"\\n\\n\")"
   ]
  },
  {
   "cell_type": "code",
   "execution_count": 11,
   "id": "5944e7f0",
   "metadata": {},
   "outputs": [
    {
     "name": "stdout",
     "output_type": "stream",
     "text": [
      "      Invoice ID Branch       City Customer type  Gender  \\\n",
      "1    226-31-3081      C  Naypyitaw        Normal  Female   \n",
      "11   529-56-3974      B   Mandalay        Member    Male   \n",
      "14   829-34-3910      A     Yangon        Normal  Female   \n",
      "15   299-46-1805      B   Mandalay        Member  Female   \n",
      "26   649-29-6775      B   Mandalay        Normal    Male   \n",
      "..           ...    ...        ...           ...     ...   \n",
      "983  148-41-7930      C  Naypyitaw        Normal    Male   \n",
      "984  189-40-5216      C  Naypyitaw        Normal    Male   \n",
      "997  727-02-1313      A     Yangon        Member    Male   \n",
      "998  347-56-2442      A     Yangon        Normal    Male   \n",
      "999  849-09-3807      A     Yangon        Member  Female   \n",
      "\n",
      "               Product line  Unit price  Quantity       Date   Time Payment  \n",
      "1    Electronic accessories       15.28         5   3/8/2019  10:29    Cash  \n",
      "11   Electronic accessories       25.51         4   3/9/2019  17:03    Cash  \n",
      "14        Health and beauty       71.38        10  3/29/2019  19:21    Cash  \n",
      "15        Sports and travel       93.72         6  1/15/2019  16:19    Cash  \n",
      "26      Fashion accessories       33.52         1   2/8/2019  15:31    Cash  \n",
      "..                      ...         ...       ...        ...    ...     ...  \n",
      "983       Health and beauty       99.96         7  1/23/2019  10:33    Cash  \n",
      "984  Electronic accessories       96.37         7   1/9/2019  11:40    Cash  \n",
      "997      Food and beverages       31.84         1   2/9/2019  13:22    Cash  \n",
      "998      Home and lifestyle       65.82         1  2/22/2019  15:33    Cash  \n",
      "999     Fashion accessories       88.34         7  2/18/2019  13:28    Cash  \n",
      "\n",
      "[344 rows x 11 columns]\n"
     ]
    }
   ],
   "source": [
    "print(by_payment.get_group('Cash'))"
   ]
  },
  {
   "cell_type": "code",
   "execution_count": 12,
   "id": "d0c5086b",
   "metadata": {},
   "outputs": [
    {
     "name": "stdout",
     "output_type": "stream",
     "text": [
      "      Invoice ID Branch       City Customer type  Gender  \\\n",
      "1    226-31-3081      C  Naypyitaw        Normal  Female   \n",
      "11   529-56-3974      B   Mandalay        Member    Male   \n",
      "14   829-34-3910      A     Yangon        Normal  Female   \n",
      "15   299-46-1805      B   Mandalay        Member  Female   \n",
      "26   649-29-6775      B   Mandalay        Normal    Male   \n",
      "..           ...    ...        ...           ...     ...   \n",
      "983  148-41-7930      C  Naypyitaw        Normal    Male   \n",
      "984  189-40-5216      C  Naypyitaw        Normal    Male   \n",
      "997  727-02-1313      A     Yangon        Member    Male   \n",
      "998  347-56-2442      A     Yangon        Normal    Male   \n",
      "999  849-09-3807      A     Yangon        Member  Female   \n",
      "\n",
      "               Product line  Unit price  Quantity       Date   Time Payment  \n",
      "1    Electronic accessories       15.28         5   3/8/2019  10:29    Cash  \n",
      "11   Electronic accessories       25.51         4   3/9/2019  17:03    Cash  \n",
      "14        Health and beauty       71.38        10  3/29/2019  19:21    Cash  \n",
      "15        Sports and travel       93.72         6  1/15/2019  16:19    Cash  \n",
      "26      Fashion accessories       33.52         1   2/8/2019  15:31    Cash  \n",
      "..                      ...         ...       ...        ...    ...     ...  \n",
      "983       Health and beauty       99.96         7  1/23/2019  10:33    Cash  \n",
      "984  Electronic accessories       96.37         7   1/9/2019  11:40    Cash  \n",
      "997      Food and beverages       31.84         1   2/9/2019  13:22    Cash  \n",
      "998      Home and lifestyle       65.82         1  2/22/2019  15:33    Cash  \n",
      "999     Fashion accessories       88.34         7  2/18/2019  13:28    Cash  \n",
      "\n",
      "[344 rows x 11 columns]\n"
     ]
    }
   ],
   "source": [
    "print(sales.loc[sales['Payment'] == \"Cash\"])"
   ]
  },
  {
   "cell_type": "markdown",
   "id": "1b75194f",
   "metadata": {},
   "source": []
  },
  {
   "cell_type": "code",
   "execution_count": 13,
   "id": "c7dd2f8d",
   "metadata": {},
   "outputs": [
    {
     "data": {
      "text/plain": [
       "Fashion accessories       178\n",
       "Food and beverages        174\n",
       "Electronic accessories    170\n",
       "Sports and travel         166\n",
       "Home and lifestyle        160\n",
       "Health and beauty         152\n",
       "Name: Product line, dtype: int64"
      ]
     },
     "execution_count": 13,
     "metadata": {},
     "output_type": "execute_result"
    }
   ],
   "source": [
    "sales['Product line'].value_counts()"
   ]
  },
  {
   "cell_type": "code",
   "execution_count": 14,
   "id": "bfa3da74",
   "metadata": {},
   "outputs": [
    {
     "data": {
      "text/plain": [
       "Payment\n",
       "Ewallet        64\n",
       "Cash           51\n",
       "Credit card    45\n",
       "Name: Product line, dtype: int64"
      ]
     },
     "execution_count": 14,
     "metadata": {},
     "output_type": "execute_result"
    }
   ],
   "source": [
    "sales.groupby(\"Payment\", sort=False)['Product line'].apply(lambda ser : ser.str.contains(\"Home\").sum())"
   ]
  },
  {
   "cell_type": "markdown",
   "id": "cd858a65",
   "metadata": {},
   "source": [
    "## 참조\n",
    "- https://towardsdatascience.com/pandas-groupby-a-simple-but-detailed-tutorial-314b8f37005d"
   ]
  },
  {
   "cell_type": "code",
   "execution_count": 15,
   "id": "0eacb32c",
   "metadata": {},
   "outputs": [
    {
     "data": {
      "text/html": [
       "<div>\n",
       "<style scoped>\n",
       "    .dataframe tbody tr th:only-of-type {\n",
       "        vertical-align: middle;\n",
       "    }\n",
       "\n",
       "    .dataframe tbody tr th {\n",
       "        vertical-align: top;\n",
       "    }\n",
       "\n",
       "    .dataframe thead th {\n",
       "        text-align: right;\n",
       "    }\n",
       "</style>\n",
       "<table border=\"1\" class=\"dataframe\">\n",
       "  <thead>\n",
       "    <tr style=\"text-align: right;\">\n",
       "      <th></th>\n",
       "      <th>Branch</th>\n",
       "      <th>Payment</th>\n",
       "      <th>group_total</th>\n",
       "      <th>total count in each branch</th>\n",
       "      <th>% in each branch</th>\n",
       "    </tr>\n",
       "  </thead>\n",
       "  <tbody>\n",
       "    <tr>\n",
       "      <th>0</th>\n",
       "      <td>A</td>\n",
       "      <td>Cash</td>\n",
       "      <td>110</td>\n",
       "      <td>340</td>\n",
       "      <td>32.352941</td>\n",
       "    </tr>\n",
       "    <tr>\n",
       "      <th>1</th>\n",
       "      <td>A</td>\n",
       "      <td>Credit card</td>\n",
       "      <td>104</td>\n",
       "      <td>340</td>\n",
       "      <td>30.588235</td>\n",
       "    </tr>\n",
       "    <tr>\n",
       "      <th>2</th>\n",
       "      <td>A</td>\n",
       "      <td>Ewallet</td>\n",
       "      <td>126</td>\n",
       "      <td>340</td>\n",
       "      <td>37.058824</td>\n",
       "    </tr>\n",
       "    <tr>\n",
       "      <th>3</th>\n",
       "      <td>B</td>\n",
       "      <td>Cash</td>\n",
       "      <td>110</td>\n",
       "      <td>332</td>\n",
       "      <td>33.132530</td>\n",
       "    </tr>\n",
       "    <tr>\n",
       "      <th>4</th>\n",
       "      <td>B</td>\n",
       "      <td>Credit card</td>\n",
       "      <td>109</td>\n",
       "      <td>332</td>\n",
       "      <td>32.831325</td>\n",
       "    </tr>\n",
       "    <tr>\n",
       "      <th>5</th>\n",
       "      <td>B</td>\n",
       "      <td>Ewallet</td>\n",
       "      <td>113</td>\n",
       "      <td>332</td>\n",
       "      <td>34.036145</td>\n",
       "    </tr>\n",
       "    <tr>\n",
       "      <th>6</th>\n",
       "      <td>C</td>\n",
       "      <td>Cash</td>\n",
       "      <td>124</td>\n",
       "      <td>328</td>\n",
       "      <td>37.804878</td>\n",
       "    </tr>\n",
       "    <tr>\n",
       "      <th>7</th>\n",
       "      <td>C</td>\n",
       "      <td>Credit card</td>\n",
       "      <td>98</td>\n",
       "      <td>328</td>\n",
       "      <td>29.878049</td>\n",
       "    </tr>\n",
       "    <tr>\n",
       "      <th>8</th>\n",
       "      <td>C</td>\n",
       "      <td>Ewallet</td>\n",
       "      <td>106</td>\n",
       "      <td>328</td>\n",
       "      <td>32.317073</td>\n",
       "    </tr>\n",
       "  </tbody>\n",
       "</table>\n",
       "</div>"
      ],
      "text/plain": [
       "  Branch      Payment  group_total  total count in each branch  \\\n",
       "0      A         Cash          110                         340   \n",
       "1      A  Credit card          104                         340   \n",
       "2      A      Ewallet          126                         340   \n",
       "3      B         Cash          110                         332   \n",
       "4      B  Credit card          109                         332   \n",
       "5      B      Ewallet          113                         332   \n",
       "6      C         Cash          124                         328   \n",
       "7      C  Credit card           98                         328   \n",
       "8      C      Ewallet          106                         328   \n",
       "\n",
       "   % in each branch  \n",
       "0         32.352941  \n",
       "1         30.588235  \n",
       "2         37.058824  \n",
       "3         33.132530  \n",
       "4         32.831325  \n",
       "5         34.036145  \n",
       "6         37.804878  \n",
       "7         29.878049  \n",
       "8         32.317073  "
      ]
     },
     "execution_count": 15,
     "metadata": {},
     "output_type": "execute_result"
    }
   ],
   "source": [
    "tbl = sales.groupby(['Branch', 'Payment']).agg(group_total=('Payment', 'count')).reset_index()\n",
    "tbl['total count in each branch'] = tbl.groupby('Branch')['group_total'].transform(sum)\n",
    "tbl['% in each branch'] = (tbl['group_total'] * 100.0 / tbl['total count in each branch'])\n",
    "tbl"
   ]
  }
 ],
 "metadata": {
  "kernelspec": {
   "display_name": "Python 3 (ipykernel)",
   "language": "python",
   "name": "python3"
  },
  "language_info": {
   "codemirror_mode": {
    "name": "ipython",
    "version": 3
   },
   "file_extension": ".py",
   "mimetype": "text/x-python",
   "name": "python",
   "nbconvert_exporter": "python",
   "pygments_lexer": "ipython3",
   "version": "3.9.0"
  }
 },
 "nbformat": 4,
 "nbformat_minor": 5
}
