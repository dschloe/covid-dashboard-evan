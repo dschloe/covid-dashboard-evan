{
 "cells": [
  {
   "cell_type": "markdown",
   "id": "0a2b9626-4bf7-4048-befa-0c01114fabb9",
   "metadata": {},
   "source": [
    "## Series\n",
    "- 이미지 출처 : https://www.educative.io/edpresso/series-vs-dataframe-in-pandas"
   ]
  },
  {
   "cell_type": "code",
   "execution_count": 1,
   "id": "f0e9c6f8-d6ee-4f4d-b8a6-c18c6e80ecb8",
   "metadata": {},
   "outputs": [
    {
     "name": "stdout",
     "output_type": "stream",
     "text": [
      "1.4.1\n"
     ]
    }
   ],
   "source": [
    "import pandas as pd \n",
    "print(pd.__version__)"
   ]
  },
  {
   "cell_type": "code",
   "execution_count": 2,
   "id": "bf8e7d6b-5485-48a0-9d44-cd73f6045182",
   "metadata": {},
   "outputs": [
    {
     "name": "stdout",
     "output_type": "stream",
     "text": [
      "0    1\n",
      "1    2\n",
      "2    3\n",
      "3    4\n",
      "dtype: int64\n",
      "----\n",
      "a    1\n",
      "b    2\n",
      "c    3\n",
      "d    4\n",
      "dtype: int64\n"
     ]
    }
   ],
   "source": [
    "num_series = pd.Series([1, 2, 3, 4])\n",
    "num_series2 = pd.Series([1, 2, 3, 4], index=[\"a\", \"b\", \"c\", \"d\"])\n",
    "\n",
    "print(num_series)\n",
    "print(\"----\")\n",
    "print(num_series2)"
   ]
  },
  {
   "cell_type": "markdown",
   "id": "26f92641-d798-422c-8d4d-e5036fa31b75",
   "metadata": {},
   "source": [
    "## pandas DataFrame"
   ]
  },
  {
   "cell_type": "code",
   "execution_count": 4,
   "id": "955d51fc-3c90-4ced-86ff-0744fd8fb4eb",
   "metadata": {},
   "outputs": [
    {
     "name": "stdout",
     "output_type": "stream",
     "text": [
      "   num_1  num_2\n",
      "0      1     10\n",
      "1      2     20\n",
      "2      3     30\n",
      "----\n",
      "   num_1  num_2\n",
      "a      1     10\n",
      "b      2     20\n",
      "c      3     30\n"
     ]
    }
   ],
   "source": [
    "num_list1 = [1, 2, 3]\n",
    "num_list2 = [10, 20, 30]\n",
    "index = [\"a\", \"b\", \"c\"]\n",
    "\n",
    "num_dict = {\"num_1\" : num_list1, \"num_2\" : num_list2}\n",
    "num_df1 = pd.DataFrame(num_dict)\n",
    "num_df2 = pd.DataFrame(num_dict, index = index)\n",
    "print(num_df1)\n",
    "print(\"----\")\n",
    "print(num_df2)"
   ]
  },
  {
   "cell_type": "code",
   "execution_count": 7,
   "id": "6b1adbd5-1dab-49e3-ba37-d0d6b68b4f38",
   "metadata": {},
   "outputs": [
    {
     "name": "stdout",
     "output_type": "stream",
     "text": [
      "num_series 객체 :  <class 'pandas.core.series.Series'>\n",
      "num_df1 객체 :  <class 'pandas.core.frame.DataFrame'>\n"
     ]
    }
   ],
   "source": [
    "print(\"num_series 객체 : \", type(num_series))\n",
    "print(\"num_df1 객체 : \", type(num_df1))"
   ]
  },
  {
   "cell_type": "markdown",
   "id": "d0718a67-7758-4bad-a156-de4f7f94c329",
   "metadata": {},
   "source": [
    "## Series vs DataFrame"
   ]
  },
  {
   "cell_type": "code",
   "execution_count": 10,
   "id": "9b6988db-1e01-403a-a142-8c5135ac0889",
   "metadata": {},
   "outputs": [
    {
     "name": "stdout",
     "output_type": "stream",
     "text": [
      "Index(['num_1', 'num_2'], dtype='object')\n"
     ]
    }
   ],
   "source": [
    "print(num_df1.columns)"
   ]
  },
  {
   "cell_type": "code",
   "execution_count": 11,
   "id": "858ac9e0-50de-44c1-bb24-e4f74a91f5cf",
   "metadata": {},
   "outputs": [
    {
     "ename": "AttributeError",
     "evalue": "'Series' object has no attribute 'columns'",
     "output_type": "error",
     "traceback": [
      "\u001b[0;31m---------------------------------------------------------------------------\u001b[0m",
      "\u001b[0;31mAttributeError\u001b[0m                            Traceback (most recent call last)",
      "Input \u001b[0;32mIn [11]\u001b[0m, in \u001b[0;36m<cell line: 1>\u001b[0;34m()\u001b[0m\n\u001b[0;32m----> 1\u001b[0m \u001b[38;5;28mprint\u001b[39m(\u001b[43mnum_series\u001b[49m\u001b[38;5;241;43m.\u001b[39;49m\u001b[43mcolumns\u001b[49m)\n",
      "File \u001b[0;32m~/Desktop/covid-dashboard-evan/venv/lib/python3.8/site-packages/pandas/core/generic.py:5583\u001b[0m, in \u001b[0;36mNDFrame.__getattr__\u001b[0;34m(self, name)\u001b[0m\n\u001b[1;32m   5576\u001b[0m \u001b[38;5;28;01mif\u001b[39;00m (\n\u001b[1;32m   5577\u001b[0m     name \u001b[38;5;129;01mnot\u001b[39;00m \u001b[38;5;129;01min\u001b[39;00m \u001b[38;5;28mself\u001b[39m\u001b[38;5;241m.\u001b[39m_internal_names_set\n\u001b[1;32m   5578\u001b[0m     \u001b[38;5;129;01mand\u001b[39;00m name \u001b[38;5;129;01mnot\u001b[39;00m \u001b[38;5;129;01min\u001b[39;00m \u001b[38;5;28mself\u001b[39m\u001b[38;5;241m.\u001b[39m_metadata\n\u001b[1;32m   5579\u001b[0m     \u001b[38;5;129;01mand\u001b[39;00m name \u001b[38;5;129;01mnot\u001b[39;00m \u001b[38;5;129;01min\u001b[39;00m \u001b[38;5;28mself\u001b[39m\u001b[38;5;241m.\u001b[39m_accessors\n\u001b[1;32m   5580\u001b[0m     \u001b[38;5;129;01mand\u001b[39;00m \u001b[38;5;28mself\u001b[39m\u001b[38;5;241m.\u001b[39m_info_axis\u001b[38;5;241m.\u001b[39m_can_hold_identifiers_and_holds_name(name)\n\u001b[1;32m   5581\u001b[0m ):\n\u001b[1;32m   5582\u001b[0m     \u001b[38;5;28;01mreturn\u001b[39;00m \u001b[38;5;28mself\u001b[39m[name]\n\u001b[0;32m-> 5583\u001b[0m \u001b[38;5;28;01mreturn\u001b[39;00m \u001b[38;5;28;43mobject\u001b[39;49m\u001b[38;5;241;43m.\u001b[39;49m\u001b[38;5;21;43m__getattribute__\u001b[39;49m\u001b[43m(\u001b[49m\u001b[38;5;28;43mself\u001b[39;49m\u001b[43m,\u001b[49m\u001b[43m \u001b[49m\u001b[43mname\u001b[49m\u001b[43m)\u001b[49m\n",
      "\u001b[0;31mAttributeError\u001b[0m: 'Series' object has no attribute 'columns'"
     ]
    }
   ],
   "source": [
    "print(num_series.columns)"
   ]
  },
  {
   "cell_type": "code",
   "execution_count": 11,
   "id": "72fb2866-c084-4f00-bfe1-b98d312929da",
   "metadata": {},
   "outputs": [
    {
     "name": "stdout",
     "output_type": "stream",
     "text": [
      "2\n",
      "2\n"
     ]
    }
   ],
   "source": [
    "print(num_series2[1])\n",
    "print(num_series2.iloc[1])"
   ]
  },
  {
   "cell_type": "code",
   "execution_count": 15,
   "id": "b59b874d-662c-47f9-aaf0-6a0df3a6d974",
   "metadata": {},
   "outputs": [
    {
     "name": "stdout",
     "output_type": "stream",
     "text": [
      "1\n",
      "2\n"
     ]
    }
   ],
   "source": [
    "print(num_series2.loc[\"a\"])\n",
    "print(num_series2.loc[\"b\"])"
   ]
  }
 ],
 "metadata": {
  "kernelspec": {
   "display_name": "Python 3 (ipykernel)",
   "language": "python",
   "name": "python3"
  },
  "language_info": {
   "codemirror_mode": {
    "name": "ipython",
    "version": 3
   },
   "file_extension": ".py",
   "mimetype": "text/x-python",
   "name": "python",
   "nbconvert_exporter": "python",
   "pygments_lexer": "ipython3",
   "version": "3.9.0"
  }
 },
 "nbformat": 4,
 "nbformat_minor": 5
}
