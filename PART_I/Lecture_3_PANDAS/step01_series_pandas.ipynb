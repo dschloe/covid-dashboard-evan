{
 "cells": [
  {
   "cell_type": "markdown",
   "id": "0a2b9626-4bf7-4048-befa-0c01114fabb9",
   "metadata": {},
   "source": [
    "## Series\n",
    "- 이미지 출처 : https://www.educative.io/edpresso/series-vs-dataframe-in-pandas"
   ]
  },
  {
   "cell_type": "code",
   "execution_count": 2,
   "id": "f0e9c6f8-d6ee-4f4d-b8a6-c18c6e80ecb8",
   "metadata": {},
   "outputs": [
    {
     "name": "stdout",
     "output_type": "stream",
     "text": [
      "1.4.1\n"
     ]
    }
   ],
   "source": [
    "import pandas as pd \n",
    "print(pd.__version__)"
   ]
  },
  {
   "cell_type": "code",
   "execution_count": 6,
   "id": "bf8e7d6b-5485-48a0-9d44-cd73f6045182",
   "metadata": {},
   "outputs": [
    {
     "name": "stdout",
     "output_type": "stream",
     "text": [
      "0    1\n",
      "1    2\n",
      "2    3\n",
      "3    4\n",
      "dtype: int64\n",
      "----\n",
      "a    1\n",
      "b    2\n",
      "c    3\n",
      "d    4\n",
      "dtype: int64\n",
      "----\n",
      "a    1\n",
      "b    2\n",
      "c    3\n",
      "d    4\n",
      "Name: Title, dtype: int64\n"
     ]
    }
   ],
   "source": [
    "num_series = pd.Series([1, 2, 3, 4])\n",
    "num_series2 = pd.Series([1, 2, 3, 4], index=[\"a\", \"b\", \"c\", \"d\"])\n",
    "num_series3 = pd.Series([1, 2, 3, 4], \n",
    "                        index=[\"a\", \"b\", \"c\", \"d\"])\n",
    "\n",
    "print(num_series)\n",
    "print(\"----\")\n",
    "print(num_series2)"
   ]
  },
  {
   "cell_type": "markdown",
   "id": "819797af-40b8-4164-b9b2-696cc33b1641",
   "metadata": {},
   "source": [
    "## 데이터 추출\n",
    "- index 활용"
   ]
  },
  {
   "cell_type": "code",
   "execution_count": 11,
   "id": "72fb2866-c084-4f00-bfe1-b98d312929da",
   "metadata": {},
   "outputs": [
    {
     "name": "stdout",
     "output_type": "stream",
     "text": [
      "2\n",
      "2\n"
     ]
    }
   ],
   "source": [
    "print(num_series2[1])\n",
    "print(num_series2.iloc[1])"
   ]
  },
  {
   "cell_type": "markdown",
   "id": "de328cb0-ebc2-4b3b-b3b6-dbb0076b74c1",
   "metadata": {},
   "source": [
    "- Key 활용"
   ]
  },
  {
   "cell_type": "code",
   "execution_count": 15,
   "id": "b59b874d-662c-47f9-aaf0-6a0df3a6d974",
   "metadata": {},
   "outputs": [
    {
     "name": "stdout",
     "output_type": "stream",
     "text": [
      "1\n",
      "2\n"
     ]
    }
   ],
   "source": [
    "print(num_series2.loc[\"a\"])\n",
    "print(num_series2.loc[\"b\"])"
   ]
  },
  {
   "cell_type": "markdown",
   "id": "26f92641-d798-422c-8d4d-e5036fa31b75",
   "metadata": {},
   "source": [
    "## pandas DataFrame"
   ]
  },
  {
   "cell_type": "code",
   "execution_count": 17,
   "id": "955d51fc-3c90-4ced-86ff-0744fd8fb4eb",
   "metadata": {},
   "outputs": [
    {
     "name": "stdout",
     "output_type": "stream",
     "text": [
      "   num_1  num_2\n",
      "0      1     10\n",
      "1      2     20\n",
      "2      3     30\n",
      "----\n",
      "   num_1  num_2\n",
      "a      1     10\n",
      "b      2     20\n",
      "c      3     30\n"
     ]
    }
   ],
   "source": [
    "num_list1 = [1, 2, 3]\n",
    "num_list2 = [10, 20, 30]\n",
    "index = [\"a\", \"b\", \"c\"]\n",
    "\n",
    "num_dict = {\"num_1\" : num_list1, \"num_2\" : num_list2}\n",
    "num_df1 = pd.DataFrame(num_dict)\n",
    "num_df2 = pd.DataFrame(num_dict, index = index)\n",
    "print(num_df1)\n",
    "print(\"----\")\n",
    "print(num_df2)"
   ]
  },
  {
   "cell_type": "code",
   "execution_count": 18,
   "id": "6b1adbd5-1dab-49e3-ba37-d0d6b68b4f38",
   "metadata": {},
   "outputs": [
    {
     "name": "stdout",
     "output_type": "stream",
     "text": [
      "<class 'pandas.core.frame.DataFrame'>\n"
     ]
    }
   ],
   "source": [
    "print(type(num_df2))"
   ]
  }
 ],
 "metadata": {
  "kernelspec": {
   "display_name": "Python 3 (ipykernel)",
   "language": "python",
   "name": "python3"
  },
  "language_info": {
   "codemirror_mode": {
    "name": "ipython",
    "version": 3
   },
   "file_extension": ".py",
   "mimetype": "text/x-python",
   "name": "python",
   "nbconvert_exporter": "python",
   "pygments_lexer": "ipython3",
   "version": "3.8.7"
  }
 },
 "nbformat": 4,
 "nbformat_minor": 5
}
