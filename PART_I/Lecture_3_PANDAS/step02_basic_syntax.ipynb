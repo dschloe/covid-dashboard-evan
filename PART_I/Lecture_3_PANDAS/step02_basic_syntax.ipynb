{
 "cells": [
  {
   "cell_type": "code",
   "execution_count": 1,
   "id": "41972de6-3f30-4069-8f9e-ef542fafcb57",
   "metadata": {},
   "outputs": [
    {
     "name": "stdout",
     "output_type": "stream",
     "text": [
      "1.4.1\n"
     ]
    }
   ],
   "source": [
    "import pandas as pd \n",
    "print(pd.__version__)"
   ]
  },
  {
   "cell_type": "markdown",
   "id": "ba34fd18-f93f-4504-99bd-6e9cb822e6fe",
   "metadata": {},
   "source": [
    "### 파일 입출력 및 미리보기\n",
    "- 데이터셋 출처 : https://www.kaggle.com/aungpyaeap/supermarket-sales"
   ]
  },
  {
   "cell_type": "code",
   "execution_count": 2,
   "id": "0258903f-3931-4223-aafb-e6d09a3654fb",
   "metadata": {},
   "outputs": [
    {
     "name": "stdout",
     "output_type": "stream",
     "text": [
      "    Invoice ID Branch       City Customer type  Gender  \\\n",
      "0  750-67-8428      A     Yangon        Member  Female   \n",
      "1  226-31-3081      C  Naypyitaw        Normal  Female   \n",
      "2  631-41-3108      A     Yangon        Normal    Male   \n",
      "\n",
      "             Product line  Unit price  Quantity      Date   Time      Payment  \n",
      "0       Health and beauty       74.69         7  1/5/2019  13:08      Ewallet  \n",
      "1  Electronic accessories       15.28         5  3/8/2019  10:29         Cash  \n",
      "2      Home and lifestyle       46.33         7  3/3/2019  13:23  Credit card  \n"
     ]
    }
   ],
   "source": [
    "sales = pd.read_csv(\"data/supermarket_sales.csv\")\n",
    "print(sales.head(3))"
   ]
  },
  {
   "cell_type": "code",
   "execution_count": 3,
   "id": "b7bfd1ac-cd9d-4e11-a82f-b54d51716241",
   "metadata": {},
   "outputs": [
    {
     "name": "stdout",
     "output_type": "stream",
     "text": [
      "      Invoice ID Branch    City Customer type  Gender         Product line  \\\n",
      "997  727-02-1313      A  Yangon        Member    Male   Food and beverages   \n",
      "998  347-56-2442      A  Yangon        Normal    Male   Home and lifestyle   \n",
      "999  849-09-3807      A  Yangon        Member  Female  Fashion accessories   \n",
      "\n",
      "     Unit price  Quantity       Date   Time Payment  \n",
      "997       31.84         1   2/9/2019  13:22    Cash  \n",
      "998       65.82         1  2/22/2019  15:33    Cash  \n",
      "999       88.34         7  2/18/2019  13:28    Cash  \n"
     ]
    }
   ],
   "source": [
    "print(sales.tail(3))"
   ]
  },
  {
   "cell_type": "code",
   "execution_count": 4,
   "id": "7a52451f-7e11-4cec-b841-e9e9cb1d67b1",
   "metadata": {},
   "outputs": [
    {
     "name": "stdout",
     "output_type": "stream",
     "text": [
      "<class 'pandas.core.frame.DataFrame'>\n",
      "RangeIndex: 1000 entries, 0 to 999\n",
      "Data columns (total 11 columns):\n",
      " #   Column         Non-Null Count  Dtype  \n",
      "---  ------         --------------  -----  \n",
      " 0   Invoice ID     1000 non-null   object \n",
      " 1   Branch         1000 non-null   object \n",
      " 2   City           1000 non-null   object \n",
      " 3   Customer type  1000 non-null   object \n",
      " 4   Gender         1000 non-null   object \n",
      " 5   Product line   1000 non-null   object \n",
      " 6   Unit price     1000 non-null   float64\n",
      " 7   Quantity       1000 non-null   int64  \n",
      " 8   Date           1000 non-null   object \n",
      " 9   Time           1000 non-null   object \n",
      " 10  Payment        1000 non-null   object \n",
      "dtypes: float64(1), int64(1), object(9)\n",
      "memory usage: 86.1+ KB\n",
      "None\n"
     ]
    }
   ],
   "source": [
    "print(sales.info())"
   ]
  },
  {
   "cell_type": "code",
   "execution_count": 5,
   "id": "5d80cd8d-f21d-4788-8c9e-070da1c42de9",
   "metadata": {},
   "outputs": [
    {
     "name": "stdout",
     "output_type": "stream",
     "text": [
      "        Unit price     Quantity\n",
      "count  1000.000000  1000.000000\n",
      "mean     55.672130     5.510000\n",
      "std      26.494628     2.923431\n",
      "min      10.080000     1.000000\n",
      "25%      32.875000     3.000000\n",
      "50%      55.230000     5.000000\n",
      "75%      77.935000     8.000000\n",
      "max      99.960000    10.000000\n"
     ]
    }
   ],
   "source": [
    "print(sales.describe())"
   ]
  },
  {
   "cell_type": "markdown",
   "id": "113bf772-863f-4eda-bde0-e73e9f4b9945",
   "metadata": {},
   "source": [
    "### 행과 열 다루기"
   ]
  },
  {
   "cell_type": "code",
   "execution_count": 6,
   "id": "ce23e8dd-3b57-406e-a83a-32a1f439ad63",
   "metadata": {},
   "outputs": [
    {
     "name": "stdout",
     "output_type": "stream",
     "text": [
      "    Invoice ID Branch       City Customer type  Gender  \\\n",
      "0  750-67-8428      A     Yangon        Member  Female   \n",
      "1  226-31-3081      C  Naypyitaw        Normal  Female   \n",
      "2  631-41-3108      A     Yangon        Normal    Male   \n",
      "\n",
      "             Product line  Unit price  Quantity      Date   Time      Payment  \\\n",
      "0       Health and beauty       74.69         7  1/5/2019  13:08      Ewallet   \n",
      "1  Electronic accessories       15.28         5  3/8/2019  10:29         Cash   \n",
      "2      Home and lifestyle       46.33         7  3/3/2019  13:23  Credit card   \n",
      "\n",
      "   Revenue  \n",
      "0        0  \n",
      "1        0  \n",
      "2        0  \n"
     ]
    }
   ],
   "source": [
    "sales['Revenue'] = 0 \n",
    "print(sales.head(3))"
   ]
  },
  {
   "cell_type": "code",
   "execution_count": 7,
   "id": "d8174d4f-8858-44f6-ad7f-787a4871ef75",
   "metadata": {},
   "outputs": [
    {
     "name": "stdout",
     "output_type": "stream",
     "text": [
      "    Invoice ID Branch       City Customer type  Gender  \\\n",
      "0  750-67-8428      A     Yangon        Member  Female   \n",
      "1  226-31-3081      C  Naypyitaw        Normal  Female   \n",
      "2  631-41-3108      A     Yangon        Normal    Male   \n",
      "\n",
      "             Product line  Unit price  Quantity      Date   Time      Payment  \\\n",
      "0       Health and beauty       74.69         7  1/5/2019  13:08      Ewallet   \n",
      "1  Electronic accessories       15.28         5  3/8/2019  10:29         Cash   \n",
      "2      Home and lifestyle       46.33         7  3/3/2019  13:23  Credit card   \n",
      "\n",
      "   Revenue  \n",
      "0   522.83  \n",
      "1    76.40  \n",
      "2   324.31  \n"
     ]
    }
   ],
   "source": [
    "sales['Revenue'] = sales['Unit price'] * sales['Quantity']\n",
    "print(sales.head(3))"
   ]
  },
  {
   "cell_type": "code",
   "execution_count": 8,
   "id": "814d094a-7d75-451a-9d9c-6c625f0020e3",
   "metadata": {},
   "outputs": [
    {
     "name": "stdout",
     "output_type": "stream",
     "text": [
      "    Invoice ID Branch       City Customer type  Gender  \\\n",
      "0  750-67-8428      A     Yangon        Member  Female   \n",
      "1  226-31-3081      C  Naypyitaw        Normal  Female   \n",
      "2  631-41-3108      A     Yangon        Normal    Male   \n",
      "\n",
      "             Product line  Unit price  Quantity      Date   Time      Payment  \n",
      "0       Health and beauty       74.69         7  1/5/2019  13:08      Ewallet  \n",
      "1  Electronic accessories       15.28         5  3/8/2019  10:29         Cash  \n",
      "2      Home and lifestyle       46.33         7  3/3/2019  13:23  Credit card  \n"
     ]
    }
   ],
   "source": [
    "sales_column_drop = sales.drop('Revenue', axis=1)\n",
    "print(sales_column_drop.head(3))"
   ]
  },
  {
   "cell_type": "code",
   "execution_count": 9,
   "id": "ca3ad0f2-9a97-417f-8cd7-2f66ad5b695a",
   "metadata": {},
   "outputs": [
    {
     "name": "stdout",
     "output_type": "stream",
     "text": [
      "    Invoice ID Branch       City Customer type  Gender  \\\n",
      "1  226-31-3081      C  Naypyitaw        Normal  Female   \n",
      "2  631-41-3108      A     Yangon        Normal    Male   \n",
      "3  123-19-1176      A     Yangon        Member    Male   \n",
      "\n",
      "             Product line  Unit price  Quantity       Date   Time      Payment  \n",
      "1  Electronic accessories       15.28         5   3/8/2019  10:29         Cash  \n",
      "2      Home and lifestyle       46.33         7   3/3/2019  13:23  Credit card  \n",
      "3       Health and beauty       58.22         8  1/27/2019  20:33      Ewallet  \n"
     ]
    }
   ],
   "source": [
    "sales_row_drop = sales_column_drop.drop(0, axis=0)\n",
    "print(sales_row_drop.head(3))"
   ]
  },
  {
   "cell_type": "markdown",
   "id": "fcc668c0-183e-45cd-a108-78915d658997",
   "metadata": {},
   "source": [
    "## 데이터 인덱싱"
   ]
  },
  {
   "cell_type": "code",
   "execution_count": 10,
   "id": "93de154f-b524-4231-ad99-9edc185bb526",
   "metadata": {},
   "outputs": [
    {
     "name": "stdout",
     "output_type": "stream",
     "text": [
      "    Invoice ID Branch       City Customer type  Gender  \\\n",
      "0  750-67-8428      A     Yangon        Member  Female   \n",
      "1  226-31-3081      C  Naypyitaw        Normal  Female   \n",
      "2  631-41-3108      A     Yangon        Normal    Male   \n",
      "\n",
      "             Product line  Unit price  Quantity      Date   Time      Payment  \\\n",
      "0       Health and beauty       74.69         7  1/5/2019  13:08      Ewallet   \n",
      "1  Electronic accessories       15.28         5  3/8/2019  10:29         Cash   \n",
      "2      Home and lifestyle       46.33         7  3/3/2019  13:23  Credit card   \n",
      "\n",
      "   Revenue  \n",
      "0   522.83  \n",
      "1    76.40  \n",
      "2   324.31  \n"
     ]
    }
   ],
   "source": [
    "print(sales[0:3])"
   ]
  },
  {
   "cell_type": "code",
   "execution_count": 11,
   "id": "5007b4ac-97a0-491a-8759-a76c1c3ab794",
   "metadata": {},
   "outputs": [
    {
     "data": {
      "text/plain": [
       "0       True\n",
       "1      False\n",
       "2       True\n",
       "3       True\n",
       "4       True\n",
       "       ...  \n",
       "995    False\n",
       "996    False\n",
       "997     True\n",
       "998     True\n",
       "999     True\n",
       "Name: City, Length: 1000, dtype: bool"
      ]
     },
     "execution_count": 11,
     "metadata": {},
     "output_type": "execute_result"
    }
   ],
   "source": [
    "sales[\"City\"] == \"Yangon\""
   ]
  },
  {
   "cell_type": "code",
   "execution_count": 12,
   "id": "086c9a83-4fc6-45a4-a30e-b24654b3d6a7",
   "metadata": {},
   "outputs": [
    {
     "name": "stdout",
     "output_type": "stream",
     "text": [
      "      Invoice ID Branch    City Customer type  Gender            Product line  \\\n",
      "0    750-67-8428      A  Yangon        Member  Female       Health and beauty   \n",
      "1    631-41-3108      A  Yangon        Normal    Male      Home and lifestyle   \n",
      "2    123-19-1176      A  Yangon        Member    Male       Health and beauty   \n",
      "3    373-73-7910      A  Yangon        Normal    Male       Sports and travel   \n",
      "4    355-53-5943      A  Yangon        Member  Female  Electronic accessories   \n",
      "..           ...    ...     ...           ...     ...                     ...   \n",
      "335  886-18-2897      A  Yangon        Normal  Female      Food and beverages   \n",
      "336  745-74-0715      A  Yangon        Normal    Male  Electronic accessories   \n",
      "337  727-02-1313      A  Yangon        Member    Male      Food and beverages   \n",
      "338  347-56-2442      A  Yangon        Normal    Male      Home and lifestyle   \n",
      "339  849-09-3807      A  Yangon        Member  Female     Fashion accessories   \n",
      "\n",
      "     Unit price  Quantity       Date   Time      Payment  Revenue  \n",
      "0         74.69         7   1/5/2019  13:08      Ewallet   522.83  \n",
      "1         46.33         7   3/3/2019  13:23  Credit card   324.31  \n",
      "2         58.22         8  1/27/2019  20:33      Ewallet   465.76  \n",
      "3         86.31         7   2/8/2019  10:37      Ewallet   604.17  \n",
      "4         68.84         6  2/25/2019  14:36      Ewallet   413.04  \n",
      "..          ...       ...        ...    ...          ...      ...  \n",
      "335       56.56         5  3/22/2019  19:06  Credit card   282.80  \n",
      "336       58.03         2  3/10/2019  20:46      Ewallet   116.06  \n",
      "337       31.84         1   2/9/2019  13:22         Cash    31.84  \n",
      "338       65.82         1  2/22/2019  15:33         Cash    65.82  \n",
      "339       88.34         7  2/18/2019  13:28         Cash   618.38  \n",
      "\n",
      "[340 rows x 12 columns]\n"
     ]
    }
   ],
   "source": [
    "print(sales[sales[\"City\"] == \"Yangon\"].reset_index(drop=True))"
   ]
  },
  {
   "cell_type": "code",
   "execution_count": 13,
   "id": "51358b91-3f04-4893-9b13-d74ff0863739",
   "metadata": {},
   "outputs": [
    {
     "name": "stdout",
     "output_type": "stream",
     "text": [
      "    Invoice ID Branch\n",
      "0  750-67-8428      A\n",
      "1  226-31-3081      C\n",
      "2  631-41-3108      A\n"
     ]
    }
   ],
   "source": [
    "print(sales.iloc[0:3, 0:2])"
   ]
  },
  {
   "cell_type": "code",
   "execution_count": 18,
   "id": "c470903b-5395-4685-831e-bbbfef0932fc",
   "metadata": {},
   "outputs": [
    {
     "name": "stdout",
     "output_type": "stream",
     "text": [
      "    Invoice ID Branch\n",
      "0  750-67-8428      A\n",
      "1  226-31-3081      C\n",
      "2  631-41-3108      A\n"
     ]
    }
   ],
   "source": [
    "print(sales.loc[0:2, ['Invoice ID', 'Branch']])"
   ]
  },
  {
   "cell_type": "code",
   "execution_count": 19,
   "id": "7b2b624a-723d-4d93-9f3b-2a4b5a28f496",
   "metadata": {},
   "outputs": [
    {
     "name": "stdout",
     "output_type": "stream",
     "text": [
      "    Invoice ID Branch  Revenue\n",
      "0  750-67-8428      A   522.83\n",
      "2  631-41-3108      A   324.31\n",
      "3  123-19-1176      A   465.76\n"
     ]
    }
   ],
   "source": [
    "print(sales.loc[sales['Revenue'] > 300, ['Invoice ID', 'Branch', 'Revenue']].head(3))"
   ]
  },
  {
   "cell_type": "code",
   "execution_count": 21,
   "id": "3a8fff05-a058-4f80-8f9a-cb090e9ade20",
   "metadata": {},
   "outputs": [
    {
     "ename": "NotImplementedError",
     "evalue": "iLocation based boolean indexing on an integer type is not available",
     "output_type": "error",
     "traceback": [
      "\u001b[1;31m---------------------------------------------------------------------------\u001b[0m",
      "\u001b[1;31mNotImplementedError\u001b[0m                       Traceback (most recent call last)",
      "Input \u001b[1;32mIn [21]\u001b[0m, in \u001b[0;36m<module>\u001b[1;34m\u001b[0m\n\u001b[1;32m----> 1\u001b[0m \u001b[38;5;28mprint\u001b[39m(\u001b[43msales\u001b[49m\u001b[38;5;241;43m.\u001b[39;49m\u001b[43miloc\u001b[49m\u001b[43m[\u001b[49m\u001b[43msales\u001b[49m\u001b[43m[\u001b[49m\u001b[38;5;124;43m'\u001b[39;49m\u001b[38;5;124;43mRevenue\u001b[39;49m\u001b[38;5;124;43m'\u001b[39;49m\u001b[43m]\u001b[49m\u001b[43m \u001b[49m\u001b[38;5;241;43m>\u001b[39;49m\u001b[43m \u001b[49m\u001b[38;5;241;43m300\u001b[39;49m\u001b[43m,\u001b[49m\u001b[43m \u001b[49m\u001b[43m[\u001b[49m\u001b[38;5;124;43m'\u001b[39;49m\u001b[38;5;124;43mInvoice ID\u001b[39;49m\u001b[38;5;124;43m'\u001b[39;49m\u001b[43m,\u001b[49m\u001b[43m \u001b[49m\u001b[38;5;124;43m'\u001b[39;49m\u001b[38;5;124;43mBranch\u001b[39;49m\u001b[38;5;124;43m'\u001b[39;49m\u001b[43m,\u001b[49m\u001b[43m \u001b[49m\u001b[38;5;124;43m'\u001b[39;49m\u001b[38;5;124;43mRevenue\u001b[39;49m\u001b[38;5;124;43m'\u001b[39;49m\u001b[43m]\u001b[49m\u001b[43m]\u001b[49m\u001b[38;5;241m.\u001b[39mhead(\u001b[38;5;241m3\u001b[39m))\n",
      "File \u001b[1;32mc:\\users\\b\\desktop\\covid-dashboard-evan\\venv\\lib\\site-packages\\pandas\\core\\indexing.py:961\u001b[0m, in \u001b[0;36m_LocationIndexer.__getitem__\u001b[1;34m(self, key)\u001b[0m\n\u001b[0;32m    959\u001b[0m     \u001b[38;5;28;01mif\u001b[39;00m \u001b[38;5;28mself\u001b[39m\u001b[38;5;241m.\u001b[39m_is_scalar_access(key):\n\u001b[0;32m    960\u001b[0m         \u001b[38;5;28;01mreturn\u001b[39;00m \u001b[38;5;28mself\u001b[39m\u001b[38;5;241m.\u001b[39mobj\u001b[38;5;241m.\u001b[39m_get_value(\u001b[38;5;241m*\u001b[39mkey, takeable\u001b[38;5;241m=\u001b[39m\u001b[38;5;28mself\u001b[39m\u001b[38;5;241m.\u001b[39m_takeable)\n\u001b[1;32m--> 961\u001b[0m     \u001b[38;5;28;01mreturn\u001b[39;00m \u001b[38;5;28;43mself\u001b[39;49m\u001b[38;5;241;43m.\u001b[39;49m\u001b[43m_getitem_tuple\u001b[49m\u001b[43m(\u001b[49m\u001b[43mkey\u001b[49m\u001b[43m)\u001b[49m\n\u001b[0;32m    962\u001b[0m \u001b[38;5;28;01melse\u001b[39;00m:\n\u001b[0;32m    963\u001b[0m     \u001b[38;5;66;03m# we by definition only have the 0th axis\u001b[39;00m\n\u001b[0;32m    964\u001b[0m     axis \u001b[38;5;241m=\u001b[39m \u001b[38;5;28mself\u001b[39m\u001b[38;5;241m.\u001b[39maxis \u001b[38;5;129;01mor\u001b[39;00m \u001b[38;5;241m0\u001b[39m\n",
      "File \u001b[1;32mc:\\users\\b\\desktop\\covid-dashboard-evan\\venv\\lib\\site-packages\\pandas\\core\\indexing.py:1458\u001b[0m, in \u001b[0;36m_iLocIndexer._getitem_tuple\u001b[1;34m(self, tup)\u001b[0m\n\u001b[0;32m   1456\u001b[0m \u001b[38;5;28;01mdef\u001b[39;00m \u001b[38;5;21m_getitem_tuple\u001b[39m(\u001b[38;5;28mself\u001b[39m, tup: \u001b[38;5;28mtuple\u001b[39m):\n\u001b[1;32m-> 1458\u001b[0m     tup \u001b[38;5;241m=\u001b[39m \u001b[38;5;28;43mself\u001b[39;49m\u001b[38;5;241;43m.\u001b[39;49m\u001b[43m_validate_tuple_indexer\u001b[49m\u001b[43m(\u001b[49m\u001b[43mtup\u001b[49m\u001b[43m)\u001b[49m\n\u001b[0;32m   1459\u001b[0m     \u001b[38;5;28;01mwith\u001b[39;00m suppress(IndexingError):\n\u001b[0;32m   1460\u001b[0m         \u001b[38;5;28;01mreturn\u001b[39;00m \u001b[38;5;28mself\u001b[39m\u001b[38;5;241m.\u001b[39m_getitem_lowerdim(tup)\n",
      "File \u001b[1;32mc:\\users\\b\\desktop\\covid-dashboard-evan\\venv\\lib\\site-packages\\pandas\\core\\indexing.py:769\u001b[0m, in \u001b[0;36m_LocationIndexer._validate_tuple_indexer\u001b[1;34m(self, key)\u001b[0m\n\u001b[0;32m    767\u001b[0m \u001b[38;5;28;01mfor\u001b[39;00m i, k \u001b[38;5;129;01min\u001b[39;00m \u001b[38;5;28menumerate\u001b[39m(key):\n\u001b[0;32m    768\u001b[0m     \u001b[38;5;28;01mtry\u001b[39;00m:\n\u001b[1;32m--> 769\u001b[0m         \u001b[38;5;28;43mself\u001b[39;49m\u001b[38;5;241;43m.\u001b[39;49m\u001b[43m_validate_key\u001b[49m\u001b[43m(\u001b[49m\u001b[43mk\u001b[49m\u001b[43m,\u001b[49m\u001b[43m \u001b[49m\u001b[43mi\u001b[49m\u001b[43m)\u001b[49m\n\u001b[0;32m    770\u001b[0m     \u001b[38;5;28;01mexcept\u001b[39;00m \u001b[38;5;167;01mValueError\u001b[39;00m \u001b[38;5;28;01mas\u001b[39;00m err:\n\u001b[0;32m    771\u001b[0m         \u001b[38;5;28;01mraise\u001b[39;00m \u001b[38;5;167;01mValueError\u001b[39;00m(\n\u001b[0;32m    772\u001b[0m             \u001b[38;5;124m\"\u001b[39m\u001b[38;5;124mLocation based indexing can only have \u001b[39m\u001b[38;5;124m\"\u001b[39m\n\u001b[0;32m    773\u001b[0m             \u001b[38;5;124mf\u001b[39m\u001b[38;5;124m\"\u001b[39m\u001b[38;5;124m[\u001b[39m\u001b[38;5;132;01m{\u001b[39;00m\u001b[38;5;28mself\u001b[39m\u001b[38;5;241m.\u001b[39m_valid_types\u001b[38;5;132;01m}\u001b[39;00m\u001b[38;5;124m] types\u001b[39m\u001b[38;5;124m\"\u001b[39m\n\u001b[0;32m    774\u001b[0m         ) \u001b[38;5;28;01mfrom\u001b[39;00m \u001b[38;5;21;01merr\u001b[39;00m\n",
      "File \u001b[1;32mc:\\users\\b\\desktop\\covid-dashboard-evan\\venv\\lib\\site-packages\\pandas\\core\\indexing.py:1347\u001b[0m, in \u001b[0;36m_iLocIndexer._validate_key\u001b[1;34m(self, key, axis)\u001b[0m\n\u001b[0;32m   1345\u001b[0m \u001b[38;5;28;01mif\u001b[39;00m \u001b[38;5;28mhasattr\u001b[39m(key, \u001b[38;5;124m\"\u001b[39m\u001b[38;5;124mindex\u001b[39m\u001b[38;5;124m\"\u001b[39m) \u001b[38;5;129;01mand\u001b[39;00m \u001b[38;5;28misinstance\u001b[39m(key\u001b[38;5;241m.\u001b[39mindex, Index):\n\u001b[0;32m   1346\u001b[0m     \u001b[38;5;28;01mif\u001b[39;00m key\u001b[38;5;241m.\u001b[39mindex\u001b[38;5;241m.\u001b[39minferred_type \u001b[38;5;241m==\u001b[39m \u001b[38;5;124m\"\u001b[39m\u001b[38;5;124minteger\u001b[39m\u001b[38;5;124m\"\u001b[39m:\n\u001b[1;32m-> 1347\u001b[0m         \u001b[38;5;28;01mraise\u001b[39;00m \u001b[38;5;167;01mNotImplementedError\u001b[39;00m(\n\u001b[0;32m   1348\u001b[0m             \u001b[38;5;124m\"\u001b[39m\u001b[38;5;124miLocation based boolean \u001b[39m\u001b[38;5;124m\"\u001b[39m\n\u001b[0;32m   1349\u001b[0m             \u001b[38;5;124m\"\u001b[39m\u001b[38;5;124mindexing on an integer type \u001b[39m\u001b[38;5;124m\"\u001b[39m\n\u001b[0;32m   1350\u001b[0m             \u001b[38;5;124m\"\u001b[39m\u001b[38;5;124mis not available\u001b[39m\u001b[38;5;124m\"\u001b[39m\n\u001b[0;32m   1351\u001b[0m         )\n\u001b[0;32m   1352\u001b[0m     \u001b[38;5;28;01mraise\u001b[39;00m \u001b[38;5;167;01mValueError\u001b[39;00m(\n\u001b[0;32m   1353\u001b[0m         \u001b[38;5;124m\"\u001b[39m\u001b[38;5;124miLocation based boolean indexing cannot use \u001b[39m\u001b[38;5;124m\"\u001b[39m\n\u001b[0;32m   1354\u001b[0m         \u001b[38;5;124m\"\u001b[39m\u001b[38;5;124man indexable as a mask\u001b[39m\u001b[38;5;124m\"\u001b[39m\n\u001b[0;32m   1355\u001b[0m     )\n\u001b[0;32m   1356\u001b[0m \u001b[38;5;28;01mreturn\u001b[39;00m\n",
      "\u001b[1;31mNotImplementedError\u001b[0m: iLocation based boolean indexing on an integer type is not available"
     ]
    }
   ],
   "source": [
    "print(sales.iloc[sales['Revenue'] > 300, ['Invoice ID', 'Branch', 'Revenue']].head(3))"
   ]
  },
  {
   "cell_type": "markdown",
   "id": "5977cd7c-5c3d-46c8-8500-52e458003903",
   "metadata": {},
   "source": [
    "### 기본 데이터 전처리\n",
    "Numpy의 Sort와 비슷합니다.  \n",
    "3개의 주요 파라미터는 **By, Ascending, Inplace**로 이루어집니다.  \n",
    "- **By**는 어떤 열을 기준으로 정렬할 것인지를 정합니다. \n",
    "- **Ascending= True/False**는 오름차순으로 정렬할 것인지를 뜻합니다.\n",
    "- **Inplace=True/False**는 해당 명령을 본 데이터에 적용할 것인지를 정합니다."
   ]
  },
  {
   "cell_type": "code",
   "execution_count": 16,
   "id": "ca4e2f0e-6c10-4e19-acad-d2f1cd29694e",
   "metadata": {},
   "outputs": [
    {
     "name": "stdout",
     "output_type": "stream",
     "text": [
      "      Invoice ID Branch      City Customer type  Gender  \\\n",
      "761  525-09-8450      B  Mandalay        Normal    Male   \n",
      "269  731-14-2199      A    Yangon        Member  Female   \n",
      "797  864-24-7918      A    Yangon        Member  Female   \n",
      "182  851-28-6367      A    Yangon        Member    Male   \n",
      "565  698-98-5964      A    Yangon        Normal  Female   \n",
      "\n",
      "               Product line  Unit price  Quantity       Date   Time  \\\n",
      "761  Electronic accessories       72.13        10  1/31/2019  15:12   \n",
      "269      Home and lifestyle       35.54        10   1/4/2019  13:34   \n",
      "797       Sports and travel       24.49        10  2/22/2019  15:15   \n",
      "182       Sports and travel       15.50        10  3/23/2019  10:55   \n",
      "565      Food and beverages       81.21        10  1/17/2019  13:01   \n",
      "\n",
      "         Payment  Revenue  \n",
      "761  Credit card    721.3  \n",
      "269      Ewallet    355.4  \n",
      "797         Cash    244.9  \n",
      "182      Ewallet    155.0  \n",
      "565  Credit card    812.1  \n"
     ]
    }
   ],
   "source": [
    "print(sales.sort_values(by=['Quantity'], ascending=False).head(5))"
   ]
  },
  {
   "cell_type": "code",
   "execution_count": 17,
   "id": "ae1cfdd1-cd14-476b-b8c9-8672c97fcea7",
   "metadata": {},
   "outputs": [
    {
     "name": "stdout",
     "output_type": "stream",
     "text": [
      "     Invoice ID Branch       City Customer type  Gender  \\\n",
      "7   315-22-5665      C  Naypyitaw        Normal  Female   \n",
      "49  574-22-5561      C  Naypyitaw        Member  Female   \n",
      "70  393-65-2792      C  Naypyitaw        Normal    Male   \n",
      "71  796-12-2025      C  Naypyitaw        Normal    Male   \n",
      "75  732-94-0499      C  Naypyitaw        Normal  Female   \n",
      "\n",
      "              Product line  Unit price  Quantity       Date   Time  \\\n",
      "7       Home and lifestyle       73.56        10  2/24/2019  11:38   \n",
      "49     Fashion accessories       82.63        10  3/19/2019  17:08   \n",
      "70      Food and beverages       89.48        10   1/6/2019  12:46   \n",
      "71     Fashion accessories       62.12        10  2/11/2019  16:19   \n",
      "75  Electronic accessories       41.65        10  1/13/2019  17:04   \n",
      "\n",
      "        Payment  Revenue  \n",
      "7       Ewallet    735.6  \n",
      "49      Ewallet    826.3  \n",
      "70  Credit card    894.8  \n",
      "71         Cash    621.2  \n",
      "75  Credit card    416.5  \n"
     ]
    }
   ],
   "source": [
    "print(sales.sort_values(by=['Branch', 'Quantity'], ascending=False).head(5))"
   ]
  }
 ],
 "metadata": {
  "kernelspec": {
   "display_name": "Python 3 (ipykernel)",
   "language": "python",
   "name": "python3"
  },
  "language_info": {
   "codemirror_mode": {
    "name": "ipython",
    "version": 3
   },
   "file_extension": ".py",
   "mimetype": "text/x-python",
   "name": "python",
   "nbconvert_exporter": "python",
   "pygments_lexer": "ipython3",
   "version": "3.9.0"
  }
 },
 "nbformat": 4,
 "nbformat_minor": 5
}
