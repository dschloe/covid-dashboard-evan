{
 "cells": [
  {
   "cell_type": "code",
   "execution_count": 1,
   "id": "41972de6-3f30-4069-8f9e-ef542fafcb57",
   "metadata": {},
   "outputs": [
    {
     "name": "stdout",
     "output_type": "stream",
     "text": [
      "1.4.1\n"
     ]
    }
   ],
   "source": [
    "import pandas as pd \n",
    "print(pd.__version__)"
   ]
  },
  {
   "cell_type": "markdown",
   "id": "4ad4ab10-188e-48cb-80dc-5e5088197dc3",
   "metadata": {},
   "source": [
    "## 테스트"
   ]
  },
  {
   "cell_type": "code",
   "execution_count": 2,
   "id": "9f164d95-2130-4beb-af69-ad4f0bcdbf4a",
   "metadata": {},
   "outputs": [
    {
     "name": "stdout",
     "output_type": "stream",
     "text": [
      "<class 'pandas.core.frame.DataFrame'>\n"
     ]
    }
   ],
   "source": [
    "df = pd.DataFrame({'col1': [1, 2], 'col2': [3, 4]})\n",
    "print(type(df))"
   ]
  },
  {
   "cell_type": "markdown",
   "id": "ba34fd18-f93f-4504-99bd-6e9cb822e6fe",
   "metadata": {},
   "source": [
    "### 파일 입출력 및 미리보기\n",
    "- 데이터셋 출처 : https://www.kaggle.com/aungpyaeap/supermarket-sales"
   ]
  },
  {
   "cell_type": "code",
   "execution_count": 35,
   "id": "0258903f-3931-4223-aafb-e6d09a3654fb",
   "metadata": {},
   "outputs": [
    {
     "name": "stdout",
     "output_type": "stream",
     "text": [
      "    Invoice ID Branch       City Customer type  Gender  \\\n",
      "0  750-67-8428      A     Yangon        Member  Female   \n",
      "1  226-31-3081      C  Naypyitaw        Normal  Female   \n",
      "2  631-41-3108      A     Yangon        Normal    Male   \n",
      "\n",
      "             Product line  Unit price  Quantity      Date   Time      Payment  \n",
      "0       Health and beauty       74.69         7  1/5/2019  13:08      Ewallet  \n",
      "1  Electronic accessories       15.28         5  3/8/2019  10:29         Cash  \n",
      "2      Home and lifestyle       46.33         7  3/3/2019  13:23  Credit card  \n"
     ]
    }
   ],
   "source": [
    "sales = pd.read_csv(\"data/supermarket_sales.csv\")\n",
    "print(sales.head(3))"
   ]
  },
  {
   "cell_type": "code",
   "execution_count": 36,
   "id": "b7bfd1ac-cd9d-4e11-a82f-b54d51716241",
   "metadata": {},
   "outputs": [
    {
     "name": "stdout",
     "output_type": "stream",
     "text": [
      "      Invoice ID Branch    City Customer type  Gender         Product line  \\\n",
      "997  727-02-1313      A  Yangon        Member    Male   Food and beverages   \n",
      "998  347-56-2442      A  Yangon        Normal    Male   Home and lifestyle   \n",
      "999  849-09-3807      A  Yangon        Member  Female  Fashion accessories   \n",
      "\n",
      "     Unit price  Quantity       Date   Time Payment  \n",
      "997       31.84         1   2/9/2019  13:22    Cash  \n",
      "998       65.82         1  2/22/2019  15:33    Cash  \n",
      "999       88.34         7  2/18/2019  13:28    Cash  \n"
     ]
    }
   ],
   "source": [
    "print(sales.tail(3))"
   ]
  },
  {
   "cell_type": "code",
   "execution_count": 37,
   "id": "7a52451f-7e11-4cec-b841-e9e9cb1d67b1",
   "metadata": {},
   "outputs": [
    {
     "name": "stdout",
     "output_type": "stream",
     "text": [
      "<class 'pandas.core.frame.DataFrame'>\n",
      "RangeIndex: 1000 entries, 0 to 999\n",
      "Data columns (total 11 columns):\n",
      " #   Column         Non-Null Count  Dtype  \n",
      "---  ------         --------------  -----  \n",
      " 0   Invoice ID     1000 non-null   object \n",
      " 1   Branch         1000 non-null   object \n",
      " 2   City           1000 non-null   object \n",
      " 3   Customer type  1000 non-null   object \n",
      " 4   Gender         1000 non-null   object \n",
      " 5   Product line   1000 non-null   object \n",
      " 6   Unit price     1000 non-null   float64\n",
      " 7   Quantity       1000 non-null   int64  \n",
      " 8   Date           1000 non-null   object \n",
      " 9   Time           1000 non-null   object \n",
      " 10  Payment        1000 non-null   object \n",
      "dtypes: float64(1), int64(1), object(9)\n",
      "memory usage: 86.1+ KB\n",
      "None\n"
     ]
    }
   ],
   "source": [
    "print(sales.info())"
   ]
  },
  {
   "cell_type": "code",
   "execution_count": 38,
   "id": "5d80cd8d-f21d-4788-8c9e-070da1c42de9",
   "metadata": {},
   "outputs": [
    {
     "name": "stdout",
     "output_type": "stream",
     "text": [
      "        Unit price     Quantity\n",
      "count  1000.000000  1000.000000\n",
      "mean     55.672130     5.510000\n",
      "std      26.494628     2.923431\n",
      "min      10.080000     1.000000\n",
      "25%      32.875000     3.000000\n",
      "50%      55.230000     5.000000\n",
      "75%      77.935000     8.000000\n",
      "max      99.960000    10.000000\n"
     ]
    }
   ],
   "source": [
    "print(sales.describe())"
   ]
  },
  {
   "cell_type": "markdown",
   "id": "113bf772-863f-4eda-bde0-e73e9f4b9945",
   "metadata": {},
   "source": [
    "### 행과 열 다루기"
   ]
  },
  {
   "cell_type": "code",
   "execution_count": 39,
   "id": "ce23e8dd-3b57-406e-a83a-32a1f439ad63",
   "metadata": {},
   "outputs": [
    {
     "name": "stdout",
     "output_type": "stream",
     "text": [
      "    Invoice ID Branch       City Customer type  Gender  \\\n",
      "0  750-67-8428      A     Yangon        Member  Female   \n",
      "1  226-31-3081      C  Naypyitaw        Normal  Female   \n",
      "2  631-41-3108      A     Yangon        Normal    Male   \n",
      "\n",
      "             Product line  Unit price  Quantity      Date   Time      Payment  \\\n",
      "0       Health and beauty       74.69         7  1/5/2019  13:08      Ewallet   \n",
      "1  Electronic accessories       15.28         5  3/8/2019  10:29         Cash   \n",
      "2      Home and lifestyle       46.33         7  3/3/2019  13:23  Credit card   \n",
      "\n",
      "   Revenue  \n",
      "0        0  \n",
      "1        0  \n",
      "2        0  \n"
     ]
    }
   ],
   "source": [
    "sales['Revenue'] = 0 \n",
    "print(sales.head(3))"
   ]
  },
  {
   "cell_type": "code",
   "execution_count": 41,
   "id": "d8174d4f-8858-44f6-ad7f-787a4871ef75",
   "metadata": {},
   "outputs": [
    {
     "name": "stdout",
     "output_type": "stream",
     "text": [
      "    Invoice ID Branch       City Customer type  Gender  \\\n",
      "0  750-67-8428      A     Yangon        Member  Female   \n",
      "1  226-31-3081      C  Naypyitaw        Normal  Female   \n",
      "2  631-41-3108      A     Yangon        Normal    Male   \n",
      "\n",
      "             Product line  Unit price  Quantity      Date   Time      Payment  \\\n",
      "0       Health and beauty       74.69         7  1/5/2019  13:08      Ewallet   \n",
      "1  Electronic accessories       15.28         5  3/8/2019  10:29         Cash   \n",
      "2      Home and lifestyle       46.33         7  3/3/2019  13:23  Credit card   \n",
      "\n",
      "   Revenue  \n",
      "0   522.83  \n",
      "1    76.40  \n",
      "2   324.31  \n"
     ]
    }
   ],
   "source": [
    "sales['Revenue'] = sales['Unit price'] * sales['Quantity']\n",
    "print(sales.head(3))"
   ]
  },
  {
   "cell_type": "code",
   "execution_count": 42,
   "id": "814d094a-7d75-451a-9d9c-6c625f0020e3",
   "metadata": {},
   "outputs": [
    {
     "name": "stdout",
     "output_type": "stream",
     "text": [
      "    Invoice ID Branch       City Customer type  Gender  \\\n",
      "0  750-67-8428      A     Yangon        Member  Female   \n",
      "1  226-31-3081      C  Naypyitaw        Normal  Female   \n",
      "2  631-41-3108      A     Yangon        Normal    Male   \n",
      "\n",
      "             Product line  Unit price  Quantity      Date   Time      Payment  \n",
      "0       Health and beauty       74.69         7  1/5/2019  13:08      Ewallet  \n",
      "1  Electronic accessories       15.28         5  3/8/2019  10:29         Cash  \n",
      "2      Home and lifestyle       46.33         7  3/3/2019  13:23  Credit card  \n"
     ]
    }
   ],
   "source": [
    "sales_column_drop = sales.drop('Revenue', axis=1)\n",
    "print(sales_column_drop.head(3))"
   ]
  },
  {
   "cell_type": "code",
   "execution_count": 44,
   "id": "ca3ad0f2-9a97-417f-8cd7-2f66ad5b695a",
   "metadata": {},
   "outputs": [
    {
     "name": "stdout",
     "output_type": "stream",
     "text": [
      "    Invoice ID Branch       City Customer type  Gender  \\\n",
      "1  226-31-3081      C  Naypyitaw        Normal  Female   \n",
      "2  631-41-3108      A     Yangon        Normal    Male   \n",
      "3  123-19-1176      A     Yangon        Member    Male   \n",
      "\n",
      "             Product line  Unit price  Quantity       Date   Time      Payment  \n",
      "1  Electronic accessories       15.28         5   3/8/2019  10:29         Cash  \n",
      "2      Home and lifestyle       46.33         7   3/3/2019  13:23  Credit card  \n",
      "3       Health and beauty       58.22         8  1/27/2019  20:33      Ewallet  \n"
     ]
    }
   ],
   "source": [
    "sales_row_drop = sales_column_drop.drop(0, axis=0)\n",
    "print(sales_row_drop.head(3))"
   ]
  }
 ],
 "metadata": {
  "kernelspec": {
   "display_name": "Python 3 (ipykernel)",
   "language": "python",
   "name": "python3"
  },
  "language_info": {
   "codemirror_mode": {
    "name": "ipython",
    "version": 3
   },
   "file_extension": ".py",
   "mimetype": "text/x-python",
   "name": "python",
   "nbconvert_exporter": "python",
   "pygments_lexer": "ipython3",
   "version": "3.8.0"
  }
 },
 "nbformat": 4,
 "nbformat_minor": 5
}
