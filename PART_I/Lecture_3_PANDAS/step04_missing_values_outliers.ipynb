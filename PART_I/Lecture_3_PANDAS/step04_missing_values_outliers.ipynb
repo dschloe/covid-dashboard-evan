{
 "cells": [
  {
   "cell_type": "markdown",
   "id": "e623d4d2-9946-4ed4-92d5-8e897053fc6f",
   "metadata": {},
   "source": [
    "## Missing Values Handling"
   ]
  },
  {
   "cell_type": "code",
   "execution_count": 1,
   "id": "3baec393-438a-45d3-bf9b-cd3c223ef54c",
   "metadata": {},
   "outputs": [
    {
     "name": "stdout",
     "output_type": "stream",
     "text": [
      "   Score_A  Score_B  Score_C\n",
      "0     80.0     30.0      NaN\n",
      "1     90.0     45.0     50.0\n",
      "2      NaN      NaN     80.0\n",
      "3     80.0      NaN     90.0\n"
     ]
    }
   ],
   "source": [
    "import pandas as pd\n",
    "import numpy as np\n",
    "\n",
    "dict = {'Score_A':[80, 90, np.nan, 80],\n",
    "        'Score_B': [30, 45, np.nan, np.nan],\n",
    "        'Score_C':[np.nan, 50, 80, 90]}\n",
    "\n",
    "df = pd.DataFrame(dict)\n",
    "print(df)"
   ]
  },
  {
   "cell_type": "code",
   "execution_count": 2,
   "id": "4915e843-7c9b-4e73-abcf-4d9b4e59314a",
   "metadata": {},
   "outputs": [
    {
     "data": {
      "text/plain": [
       "Score_A    1\n",
       "Score_B    2\n",
       "Score_C    1\n",
       "dtype: int64"
      ]
     },
     "execution_count": 2,
     "metadata": {},
     "output_type": "execute_result"
    }
   ],
   "source": [
    "df.isnull().sum()"
   ]
  },
  {
   "cell_type": "code",
   "execution_count": 3,
   "id": "742db2da-fb25-4d1d-adc2-df812793d890",
   "metadata": {},
   "outputs": [
    {
     "name": "stdout",
     "output_type": "stream",
     "text": [
      "   Score_A  Score_B  Score_C\n",
      "0     80.0     30.0      0.0\n",
      "1     90.0     45.0     50.0\n",
      "2      0.0      0.0     80.0\n",
      "3     80.0      0.0     90.0\n"
     ]
    }
   ],
   "source": [
    "print(df.fillna(0))"
   ]
  },
  {
   "cell_type": "code",
   "execution_count": 4,
   "id": "6a0fcee2-783f-48ce-ae67-621b221d5e85",
   "metadata": {},
   "outputs": [
    {
     "name": "stdout",
     "output_type": "stream",
     "text": [
      "   Score_A  Score_B  Score_C\n",
      "0     80.0     30.0      NaN\n",
      "1     90.0     45.0     50.0\n",
      "2     90.0     45.0     80.0\n",
      "3     80.0     45.0     90.0\n"
     ]
    }
   ],
   "source": [
    "print(df.fillna(method = \"pad\"))"
   ]
  },
  {
   "cell_type": "code",
   "execution_count": 5,
   "id": "f5d4ed05-9046-4761-8790-a4e2e2495961",
   "metadata": {},
   "outputs": [
    {
     "name": "stdout",
     "output_type": "stream",
     "text": [
      "  Gender  Salary\n",
      "0     남자      30\n",
      "1     여자      45\n",
      "2    NaN      90\n",
      "3     남자      70\n"
     ]
    }
   ],
   "source": [
    "dict = {'Gender':[\"남자\", \"여자\", np.nan, \"남자\"],\n",
    "        'Salary': [30, 45, 90, 70]}\n",
    "\n",
    "df = pd.DataFrame(dict)\n",
    "print(df)"
   ]
  },
  {
   "cell_type": "code",
   "execution_count": 6,
   "id": "fe88b489-a334-43b8-b543-2be7f4a2e052",
   "metadata": {},
   "outputs": [
    {
     "data": {
      "text/plain": [
       "0       남자\n",
       "1       여자\n",
       "2    성별 없음\n",
       "3       남자\n",
       "Name: Gender, dtype: object"
      ]
     },
     "execution_count": 6,
     "metadata": {},
     "output_type": "execute_result"
    }
   ],
   "source": [
    "df['Gender'].fillna(\"성별 없음\")"
   ]
  },
  {
   "cell_type": "code",
   "execution_count": 7,
   "id": "ad40db04-734b-4c1e-b920-c2002dfd03e5",
   "metadata": {},
   "outputs": [
    {
     "name": "stdout",
     "output_type": "stream",
     "text": [
      "   Score_A  Score_B  Score_C  Score_D\n",
      "0     80.0     30.0      NaN       50\n",
      "1     90.0     45.0     50.0       30\n",
      "2      NaN      NaN     80.0       80\n",
      "3     80.0     70.0     90.0       60\n"
     ]
    }
   ],
   "source": [
    "dict = {'Score_A': [80, 90, np.nan, 80],\n",
    "        'Score_B': [30, 45, np.nan, 70],\n",
    "        'Score_C': [np.nan, 50, 80, 90], \n",
    "        'Score_D': [50, 30, 80, 60]}\n",
    "\n",
    "df = pd.DataFrame(dict)\n",
    "print(df)"
   ]
  },
  {
   "cell_type": "code",
   "execution_count": 8,
   "id": "c248d6d1-12bb-4558-8b96-60831ccb315a",
   "metadata": {},
   "outputs": [
    {
     "name": "stdout",
     "output_type": "stream",
     "text": [
      "   Score_D\n",
      "0       50\n",
      "1       30\n",
      "2       80\n",
      "3       60\n"
     ]
    }
   ],
   "source": [
    "print(df.dropna(axis = 1))"
   ]
  },
  {
   "cell_type": "code",
   "execution_count": 9,
   "id": "f7ce3458-649b-4d3a-9f88-7927c32591cf",
   "metadata": {},
   "outputs": [
    {
     "name": "stdout",
     "output_type": "stream",
     "text": [
      "   Score_A  Score_B  Score_C  Score_D\n",
      "1     90.0     45.0     50.0       30\n",
      "3     80.0     70.0     90.0       60\n"
     ]
    }
   ],
   "source": [
    "print(df.dropna(axis = 0))"
   ]
  },
  {
   "cell_type": "markdown",
   "id": "004aea68-35b5-4f8e-b561-e93146ceec41",
   "metadata": {},
   "source": []
  }
 ],
 "metadata": {
  "kernelspec": {
   "display_name": "Python 3 (ipykernel)",
   "language": "python",
   "name": "python3"
  },
  "language_info": {
   "codemirror_mode": {
    "name": "ipython",
    "version": 3
   },
   "file_extension": ".py",
   "mimetype": "text/x-python",
   "name": "python",
   "nbconvert_exporter": "python",
   "pygments_lexer": "ipython3",
   "version": "3.8.7"
  }
 },
 "nbformat": 4,
 "nbformat_minor": 5
}
