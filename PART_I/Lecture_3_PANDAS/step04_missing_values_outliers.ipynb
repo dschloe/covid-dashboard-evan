{
 "cells": [
  {
   "cell_type": "markdown",
   "id": "e623d4d2-9946-4ed4-92d5-8e897053fc6f",
   "metadata": {},
   "source": [
    "## Missing Values Handling"
   ]
  },
  {
   "cell_type": "code",
   "execution_count": 3,
   "id": "3baec393-438a-45d3-bf9b-cd3c223ef54c",
   "metadata": {},
   "outputs": [
    {
     "name": "stdout",
     "output_type": "stream",
     "text": [
      "   Score_A  Score_B  Score_C\n",
      "0     80.0     30.0      NaN\n",
      "1     90.0     45.0     50.0\n",
      "2      NaN      NaN     80.0\n",
      "3     80.0      NaN     90.0\n"
     ]
    }
   ],
   "source": [
    "import pandas as pd\n",
    "import numpy as np\n",
    "\n",
    "dict = {'Score_A':[80, 90, np.nan, 80],\n",
    "        'Score_B': [30, 45, np.nan, np.nan],\n",
    "        'Score_C':[np.nan, 50, 80, 90]}\n",
    "\n",
    "df = pd.DataFrame(dict)\n",
    "print(df)"
   ]
  },
  {
   "cell_type": "code",
   "execution_count": 2,
   "id": "4915e843-7c9b-4e73-abcf-4d9b4e59314a",
   "metadata": {},
   "outputs": [
    {
     "data": {
      "text/plain": [
       "Score_A    1\n",
       "Score_B    2\n",
       "Score_C    1\n",
       "dtype: int64"
      ]
     },
     "execution_count": 2,
     "metadata": {},
     "output_type": "execute_result"
    }
   ],
   "source": [
    "df.isnull().sum()"
   ]
  },
  {
   "cell_type": "code",
   "execution_count": 3,
   "id": "742db2da-fb25-4d1d-adc2-df812793d890",
   "metadata": {},
   "outputs": [
    {
     "name": "stdout",
     "output_type": "stream",
     "text": [
      "   Score_A  Score_B  Score_C\n",
      "0     80.0     30.0      0.0\n",
      "1     90.0     45.0     50.0\n",
      "2      0.0      0.0     80.0\n",
      "3     80.0      0.0     90.0\n"
     ]
    }
   ],
   "source": [
    "print(df.fillna(0))"
   ]
  },
  {
   "cell_type": "code",
   "execution_count": 4,
   "id": "6a0fcee2-783f-48ce-ae67-621b221d5e85",
   "metadata": {},
   "outputs": [
    {
     "name": "stdout",
     "output_type": "stream",
     "text": [
      "   Score_A  Score_B  Score_C\n",
      "0     80.0     30.0      NaN\n",
      "1     90.0     45.0     50.0\n",
      "2     90.0     45.0     80.0\n",
      "3     80.0     45.0     90.0\n"
     ]
    }
   ],
   "source": [
    "print(df.fillna(method = \"pad\"))"
   ]
  },
  {
   "cell_type": "code",
   "execution_count": 5,
   "id": "f5d4ed05-9046-4761-8790-a4e2e2495961",
   "metadata": {},
   "outputs": [
    {
     "name": "stdout",
     "output_type": "stream",
     "text": [
      "  Gender  Salary\n",
      "0     남자      30\n",
      "1     여자      45\n",
      "2    NaN      90\n",
      "3     남자      70\n"
     ]
    }
   ],
   "source": [
    "dict = {'Gender':[\"남자\", \"여자\", np.nan, \"남자\"],\n",
    "        'Salary': [30, 45, 90, 70]}\n",
    "\n",
    "df = pd.DataFrame(dict)\n",
    "print(df)"
   ]
  },
  {
   "cell_type": "code",
   "execution_count": 6,
   "id": "fe88b489-a334-43b8-b543-2be7f4a2e052",
   "metadata": {},
   "outputs": [
    {
     "data": {
      "text/plain": [
       "0       남자\n",
       "1       여자\n",
       "2    성별 없음\n",
       "3       남자\n",
       "Name: Gender, dtype: object"
      ]
     },
     "execution_count": 6,
     "metadata": {},
     "output_type": "execute_result"
    }
   ],
   "source": [
    "df['Gender'].fillna(\"성별 없음\")"
   ]
  },
  {
   "cell_type": "code",
   "execution_count": 7,
   "id": "ad40db04-734b-4c1e-b920-c2002dfd03e5",
   "metadata": {},
   "outputs": [
    {
     "name": "stdout",
     "output_type": "stream",
     "text": [
      "   Score_A  Score_B  Score_C  Score_D\n",
      "0     80.0     30.0      NaN       50\n",
      "1     90.0     45.0     50.0       30\n",
      "2      NaN      NaN     80.0       80\n",
      "3     80.0     70.0     90.0       60\n"
     ]
    }
   ],
   "source": [
    "dict = {'Score_A': [80, 90, np.nan, 80],\n",
    "        'Score_B': [30, 45, np.nan, 70],\n",
    "        'Score_C': [np.nan, 50, 80, 90], \n",
    "        'Score_D': [50, 30, 80, 60]}\n",
    "\n",
    "df = pd.DataFrame(dict)\n",
    "print(df)"
   ]
  },
  {
   "cell_type": "code",
   "execution_count": 8,
   "id": "c248d6d1-12bb-4558-8b96-60831ccb315a",
   "metadata": {},
   "outputs": [
    {
     "name": "stdout",
     "output_type": "stream",
     "text": [
      "   Score_D\n",
      "0       50\n",
      "1       30\n",
      "2       80\n",
      "3       60\n"
     ]
    }
   ],
   "source": [
    "print(df.dropna(axis = 1))"
   ]
  },
  {
   "cell_type": "code",
   "execution_count": 9,
   "id": "f7ce3458-649b-4d3a-9f88-7927c32591cf",
   "metadata": {},
   "outputs": [
    {
     "name": "stdout",
     "output_type": "stream",
     "text": [
      "   Score_A  Score_B  Score_C  Score_D\n",
      "1     90.0     45.0     50.0       30\n",
      "3     80.0     70.0     90.0       60\n"
     ]
    }
   ],
   "source": [
    "print(df.dropna(axis = 0))"
   ]
  },
  {
   "cell_type": "markdown",
   "id": "004aea68-35b5-4f8e-b561-e93146ceec41",
   "metadata": {},
   "source": [
    "## Outliers"
   ]
  },
  {
   "cell_type": "code",
   "execution_count": 7,
   "id": "729edee1-62aa-407c-94db-730fa8b4de1e",
   "metadata": {},
   "outputs": [
    {
     "name": "stdout",
     "output_type": "stream",
     "text": [
      "<class 'pandas.core.frame.DataFrame'>\n",
      "RangeIndex: 1000 entries, 0 to 999\n",
      "Data columns (total 11 columns):\n",
      " #   Column         Non-Null Count  Dtype  \n",
      "---  ------         --------------  -----  \n",
      " 0   Invoice ID     1000 non-null   object \n",
      " 1   Branch         1000 non-null   object \n",
      " 2   City           1000 non-null   object \n",
      " 3   Customer type  1000 non-null   object \n",
      " 4   Gender         1000 non-null   object \n",
      " 5   Product line   1000 non-null   object \n",
      " 6   Unit price     1000 non-null   float64\n",
      " 7   Quantity       1000 non-null   int64  \n",
      " 8   Date           1000 non-null   object \n",
      " 9   Time           1000 non-null   object \n",
      " 10  Payment        1000 non-null   object \n",
      "dtypes: float64(1), int64(1), object(9)\n",
      "memory usage: 86.1+ KB\n"
     ]
    }
   ],
   "source": [
    "sales = pd.read_csv(\"data/supermarket_sales.csv\")\n",
    "sales.info()"
   ]
  },
  {
   "cell_type": "code",
   "execution_count": 10,
   "id": "9f66f2ae-40f7-4695-8da6-b0cde2786df7",
   "metadata": {},
   "outputs": [
    {
     "name": "stdout",
     "output_type": "stream",
     "text": [
      "        Unit price\n",
      "count  1000.000000\n",
      "mean     55.672130\n",
      "std      26.494628\n",
      "min      10.080000\n",
      "25%      32.875000\n",
      "50%      55.230000\n",
      "75%      77.935000\n",
      "max      99.960000\n"
     ]
    }
   ],
   "source": [
    "print(sales[['Unit price']].describe())"
   ]
  },
  {
   "cell_type": "code",
   "execution_count": 12,
   "id": "3196e7f1-93b5-4a3b-b4a4-7fbbad687714",
   "metadata": {},
   "outputs": [
    {
     "data": {
      "text/plain": [
       "Unit price    32.875\n",
       "Name: 0.25, dtype: float64"
      ]
     },
     "execution_count": 12,
     "metadata": {},
     "output_type": "execute_result"
    }
   ],
   "source": [
    "sales[['Unit price']].quantile(0.25)"
   ]
  },
  {
   "cell_type": "code",
   "execution_count": 13,
   "id": "ab6164d0-3fe3-4034-bbc7-dfa5766b1c4c",
   "metadata": {},
   "outputs": [
    {
     "data": {
      "text/plain": [
       "Unit price    77.935\n",
       "Name: 0.75, dtype: float64"
      ]
     },
     "execution_count": 13,
     "metadata": {},
     "output_type": "execute_result"
    }
   ],
   "source": [
    "sales[['Unit price']].quantile(0.75)"
   ]
  },
  {
   "cell_type": "code",
   "execution_count": 21,
   "id": "951c21ec-f4bb-4333-a9de-22c5a6701ca6",
   "metadata": {},
   "outputs": [],
   "source": [
    "Q1 = sales['Unit price'].quantile(0.25)\n",
    "Q3 = sales['Unit price'].quantile(0.75)"
   ]
  },
  {
   "cell_type": "markdown",
   "id": "8419ae7b-89ff-49f0-b499-441f871b1cc0",
   "metadata": {},
   "source": [
    "- Q1 보다 낮은 것을 이상치로 간주\n",
    "- Q3 보다 높은 것을 이상치로 간주"
   ]
  },
  {
   "cell_type": "code",
   "execution_count": 23,
   "id": "f6070f49-4ad6-473d-babf-36ba8bebfb6e",
   "metadata": {},
   "outputs": [
    {
     "data": {
      "text/plain": [
       "500"
      ]
     },
     "execution_count": 23,
     "metadata": {},
     "output_type": "execute_result"
    }
   ],
   "source": [
    "outliers_q1 = (sales['Unit price'] < Q1)\n",
    "outliers_q3 = (sales['Unit price'] > Q3)\n",
    "\n",
    "len(sales['Unit price']) - (len(sales['Unit price'][outliers_q1]) + len(sales['Unit price'][outliers_q3]))"
   ]
  },
  {
   "cell_type": "code",
   "execution_count": 29,
   "id": "933fda0c-3237-46ba-811b-211027085df0",
   "metadata": {},
   "outputs": [
    {
     "name": "stdout",
     "output_type": "stream",
     "text": [
      "1      15.28\n",
      "4      86.31\n",
      "5      85.39\n",
      "10     14.48\n",
      "11     25.51\n",
      "       ...  \n",
      "988    82.34\n",
      "993    17.49\n",
      "996    97.38\n",
      "997    31.84\n",
      "999    88.34\n",
      "Name: Unit price, Length: 500, dtype: float64\n"
     ]
    }
   ],
   "source": [
    "print(sales['Unit price'][(outliers_q1 | outliers_q3)])"
   ]
  },
  {
   "cell_type": "code",
   "execution_count": 30,
   "id": "81fac2ee-57e9-4a2a-b9f0-064b908971da",
   "metadata": {},
   "outputs": [
    {
     "name": "stdout",
     "output_type": "stream",
     "text": [
      "0      74.69\n",
      "2      46.33\n",
      "3      58.22\n",
      "6      68.84\n",
      "7      73.56\n",
      "       ...  \n",
      "991    76.60\n",
      "992    58.03\n",
      "994    60.95\n",
      "995    40.35\n",
      "998    65.82\n",
      "Name: Unit price, Length: 500, dtype: float64\n"
     ]
    }
   ],
   "source": [
    "print(sales['Unit price'][~(outliers_q1 | outliers_q3)])"
   ]
  }
 ],
 "metadata": {
  "kernelspec": {
   "display_name": "Python 3 (ipykernel)",
   "language": "python",
   "name": "python3"
  },
  "language_info": {
   "codemirror_mode": {
    "name": "ipython",
    "version": 3
   },
   "file_extension": ".py",
   "mimetype": "text/x-python",
   "name": "python",
   "nbconvert_exporter": "python",
   "pygments_lexer": "ipython3",
   "version": "3.8.7"
  }
 },
 "nbformat": 4,
 "nbformat_minor": 5
}
