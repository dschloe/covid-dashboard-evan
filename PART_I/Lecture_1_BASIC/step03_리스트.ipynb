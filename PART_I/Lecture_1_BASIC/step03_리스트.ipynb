{
 "cells": [
  {
   "cell_type": "markdown",
   "id": "48ac49d9-0082-4982-84dd-6feebdb3af46",
   "metadata": {},
   "source": [
    "## 리스트 생성"
   ]
  },
  {
   "cell_type": "code",
   "execution_count": 4,
   "id": "bae6f591-4463-4a55-ac2b-29e763cf0f06",
   "metadata": {},
   "outputs": [],
   "source": [
    "a = []\n",
    "b = [1, 2, 3]\n",
    "c = ['가', '나', '다', '라']\n",
    "d = [1, 2, '다', '라']\n",
    "e = [1, 2, ['가', '나']]"
   ]
  },
  {
   "cell_type": "markdown",
   "id": "a96adf79-9852-4a41-8789-e37063789a80",
   "metadata": {},
   "source": [
    "## 슬라이싱"
   ]
  },
  {
   "cell_type": "code",
   "execution_count": 5,
   "id": "7e9d3352-5a85-488b-9804-cfc1db7e906b",
   "metadata": {},
   "outputs": [
    {
     "data": {
      "text/plain": [
       "'가'"
      ]
     },
     "execution_count": 5,
     "metadata": {},
     "output_type": "execute_result"
    }
   ],
   "source": [
    "e = [1, 2, ['가', '나']]\n",
    "e[2][0]"
   ]
  },
  {
   "cell_type": "markdown",
   "id": "92f2de09-c8cb-4a6f-b2e0-08b59a5c67a6",
   "metadata": {},
   "source": [
    "## 리스트 요소 변경하기"
   ]
  },
  {
   "cell_type": "code",
   "execution_count": 6,
   "id": "ed313e41-c5db-475d-aa0f-9920dbcf104d",
   "metadata": {},
   "outputs": [
    {
     "name": "stdout",
     "output_type": "stream",
     "text": [
      "['사과', '배', '딸기']\n"
     ]
    }
   ],
   "source": [
    "fruits = [\"사과\", \"바나나\", \"딸기\"]\n",
    "fruits[1] = \"배\"\n",
    "print(fruits)"
   ]
  },
  {
   "cell_type": "code",
   "execution_count": 1,
   "id": "2963b9eb-e9ec-4031-a93f-762eb296c23c",
   "metadata": {},
   "outputs": [
    {
     "name": "stdout",
     "output_type": "stream",
     "text": [
      "['사과', '배', '체리']\n"
     ]
    }
   ],
   "source": [
    "fruits = [\"사과\", \"바나나\", \"딸기\"]\n",
    "fruits[1:3] = [\"배\", \"체리\"]\n",
    "print(fruits)"
   ]
  },
  {
   "cell_type": "markdown",
   "id": "91e93939-9885-4878-9f8c-e58af4bfdec9",
   "metadata": {},
   "source": [
    "## 리스트 값 추가하기"
   ]
  },
  {
   "cell_type": "code",
   "execution_count": 5,
   "id": "2f1dc8f6-59fe-4f04-9e13-ff6d613bc6f5",
   "metadata": {},
   "outputs": [
    {
     "name": "stdout",
     "output_type": "stream",
     "text": [
      "[1, 2, 3, 4]\n",
      "[1, 2, 3, 4, 5, 6, 7]\n"
     ]
    }
   ],
   "source": [
    "numbers = [1, 2, 3]\n",
    "numbers.append(4)\n",
    "print(numbers)\n",
    "numbers.extend([5, 6, 7])\n",
    "print(numbers)"
   ]
  },
  {
   "cell_type": "markdown",
   "id": "eb73322c-296f-483c-8ca9-3fcba06eeae6",
   "metadata": {},
   "source": [
    "## 리스트 값 제거하기"
   ]
  },
  {
   "cell_type": "code",
   "execution_count": 6,
   "id": "3476928b-4f6b-49a8-b0c0-b220a9e7008b",
   "metadata": {},
   "outputs": [
    {
     "name": "stdout",
     "output_type": "stream",
     "text": [
      "[1, 2, 3, 4, 5, 6]\n",
      "[1, 3, 4, 5, 6]\n",
      "[3, 4, 5, 6]\n",
      "[4, 5, 6]\n"
     ]
    }
   ],
   "source": [
    "numbers.pop()\n",
    "print(numbers)\n",
    "numbers.pop(1)\n",
    "print(numbers)\n",
    "numbers.remove(1)\n",
    "print(numbers)\n",
    "del numbers[0]\n",
    "print(numbers)"
   ]
  },
  {
   "cell_type": "markdown",
   "id": "75e6fd4b-9ce5-4fa5-85f8-d040c78053ab",
   "metadata": {},
   "source": []
  }
 ],
 "metadata": {
  "kernelspec": {
   "display_name": "Python 3 (ipykernel)",
   "language": "python",
   "name": "python3"
  },
  "language_info": {
   "codemirror_mode": {
    "name": "ipython",
    "version": 3
   },
   "file_extension": ".py",
   "mimetype": "text/x-python",
   "name": "python",
   "nbconvert_exporter": "python",
   "pygments_lexer": "ipython3",
   "version": "3.8.0"
  }
 },
 "nbformat": 4,
 "nbformat_minor": 5
}
