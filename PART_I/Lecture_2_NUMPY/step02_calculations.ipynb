{
 "cells": [
  {
   "cell_type": "markdown",
   "id": "120b92ea-6f61-4583-9a0e-18e6c46f3004",
   "metadata": {},
   "source": [
    "## 배열 사칙연산"
   ]
  },
  {
   "cell_type": "code",
   "execution_count": 2,
   "id": "f4768384-bf6e-4247-a66e-6a2b1ba54d22",
   "metadata": {},
   "outputs": [
    {
     "name": "stdout",
     "output_type": "stream",
     "text": [
      "1.22.2\n"
     ]
    }
   ],
   "source": [
    "import numpy as np \n",
    "print(np.__version__)"
   ]
  },
  {
   "cell_type": "code",
   "execution_count": 21,
   "id": "359d4d7f-c24e-4019-9ef7-bcae88b1ba5a",
   "metadata": {},
   "outputs": [
    {
     "name": "stdout",
     "output_type": "stream",
     "text": [
      "[[1 2 3]\n",
      " [2 3 4]]\n",
      "[[5 6 2]\n",
      " [9 8 7]]\n"
     ]
    }
   ],
   "source": [
    "a = np.array([[1,2,3],[2,3,4]])\n",
    "b = np.array([[5,6,2],[9,8,7]])\n",
    "\n",
    "print(a)\n",
    "print(b)"
   ]
  },
  {
   "cell_type": "code",
   "execution_count": 22,
   "id": "7d5eac98-4130-471b-b50b-e1cf5012f9c7",
   "metadata": {},
   "outputs": [
    {
     "name": "stdout",
     "output_type": "stream",
     "text": [
      "[[ 6  8  5]\n",
      " [11 11 11]]\n",
      "[[ 6  8  5]\n",
      " [11 11 11]]\n"
     ]
    }
   ],
   "source": [
    "print(a + b)\n",
    "print(np.add(a, b))"
   ]
  },
  {
   "cell_type": "code",
   "execution_count": 23,
   "id": "5d14a2bf-f58f-499e-9f18-f89d0cd2fb32",
   "metadata": {},
   "outputs": [
    {
     "name": "stdout",
     "output_type": "stream",
     "text": [
      "[[-4 -4  1]\n",
      " [-7 -5 -3]]\n",
      "[[-4 -4  1]\n",
      " [-7 -5 -3]]\n"
     ]
    }
   ],
   "source": [
    "print(a - b)\n",
    "print(np.subtract(a, b))"
   ]
  },
  {
   "cell_type": "code",
   "execution_count": 24,
   "id": "f2033513-ca3a-4251-8810-ebc2b39320f8",
   "metadata": {},
   "outputs": [
    {
     "name": "stdout",
     "output_type": "stream",
     "text": [
      "[[ 5 12  6]\n",
      " [18 24 28]]\n",
      "[[ 5 12  6]\n",
      " [18 24 28]]\n"
     ]
    }
   ],
   "source": [
    "print(a * b)\n",
    "print(np.multiply(a, b))"
   ]
  },
  {
   "cell_type": "code",
   "execution_count": 25,
   "id": "d3e805f0-9c65-45da-a2d7-369f181836d6",
   "metadata": {},
   "outputs": [
    {
     "name": "stdout",
     "output_type": "stream",
     "text": [
      "[[0.2        0.33333333 1.5       ]\n",
      " [0.22222222 0.375      0.57142857]]\n",
      "[[0.2        0.33333333 1.5       ]\n",
      " [0.22222222 0.375      0.57142857]]\n"
     ]
    }
   ],
   "source": [
    "print(a / b)\n",
    "print(np.divide(a, b))"
   ]
  }
 ],
 "metadata": {
  "kernelspec": {
   "display_name": "Python 3 (ipykernel)",
   "language": "python",
   "name": "python3"
  },
  "language_info": {
   "codemirror_mode": {
    "name": "ipython",
    "version": 3
   },
   "file_extension": ".py",
   "mimetype": "text/x-python",
   "name": "python",
   "nbconvert_exporter": "python",
   "pygments_lexer": "ipython3",
   "version": "3.8.7"
  }
 },
 "nbformat": 4,
 "nbformat_minor": 5
}
