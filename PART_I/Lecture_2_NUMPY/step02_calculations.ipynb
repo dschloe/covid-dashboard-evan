{
 "cells": [
  {
   "cell_type": "markdown",
   "id": "120b92ea-6f61-4583-9a0e-18e6c46f3004",
   "metadata": {},
   "source": [
    "## 배열 사칙연산"
   ]
  },
  {
   "cell_type": "code",
   "execution_count": 2,
   "id": "f4768384-bf6e-4247-a66e-6a2b1ba54d22",
   "metadata": {},
   "outputs": [
    {
     "name": "stdout",
     "output_type": "stream",
     "text": [
      "1.22.2\n"
     ]
    }
   ],
   "source": [
    "import numpy as np \n",
    "print(np.__version__)"
   ]
  },
  {
   "cell_type": "code",
   "execution_count": 21,
   "id": "359d4d7f-c24e-4019-9ef7-bcae88b1ba5a",
   "metadata": {},
   "outputs": [
    {
     "name": "stdout",
     "output_type": "stream",
     "text": [
      "[[1 2 3]\n",
      " [2 3 4]]\n",
      "[[5 6 2]\n",
      " [9 8 7]]\n"
     ]
    }
   ],
   "source": [
    "a = np.array([[1,2,3],[2,3,4]])\n",
    "b = np.array([[5,6,2],[9,8,7]])\n",
    "\n",
    "print(a)\n",
    "print(b)"
   ]
  },
  {
   "cell_type": "code",
   "execution_count": 22,
   "id": "7d5eac98-4130-471b-b50b-e1cf5012f9c7",
   "metadata": {},
   "outputs": [
    {
     "name": "stdout",
     "output_type": "stream",
     "text": [
      "[[ 6  8  5]\n",
      " [11 11 11]]\n",
      "[[ 6  8  5]\n",
      " [11 11 11]]\n"
     ]
    }
   ],
   "source": [
    "print(a + b)\n",
    "print(np.add(a, b))"
   ]
  },
  {
   "cell_type": "code",
   "execution_count": 23,
   "id": "5d14a2bf-f58f-499e-9f18-f89d0cd2fb32",
   "metadata": {},
   "outputs": [
    {
     "name": "stdout",
     "output_type": "stream",
     "text": [
      "[[-4 -4  1]\n",
      " [-7 -5 -3]]\n",
      "[[-4 -4  1]\n",
      " [-7 -5 -3]]\n"
     ]
    }
   ],
   "source": [
    "print(a - b)\n",
    "print(np.subtract(a, b))"
   ]
  },
  {
   "cell_type": "code",
   "execution_count": 24,
   "id": "f2033513-ca3a-4251-8810-ebc2b39320f8",
   "metadata": {},
   "outputs": [
    {
     "name": "stdout",
     "output_type": "stream",
     "text": [
      "[[ 5 12  6]\n",
      " [18 24 28]]\n",
      "[[ 5 12  6]\n",
      " [18 24 28]]\n"
     ]
    }
   ],
   "source": [
    "print(a * b)\n",
    "print(np.multiply(a, b))"
   ]
  },
  {
   "cell_type": "code",
   "execution_count": 25,
   "id": "d3e805f0-9c65-45da-a2d7-369f181836d6",
   "metadata": {},
   "outputs": [
    {
     "name": "stdout",
     "output_type": "stream",
     "text": [
      "[[0.2        0.33333333 1.5       ]\n",
      " [0.22222222 0.375      0.57142857]]\n",
      "[[0.2        0.33333333 1.5       ]\n",
      " [0.22222222 0.375      0.57142857]]\n"
     ]
    }
   ],
   "source": [
    "print(a / b)\n",
    "print(np.divide(a, b))"
   ]
  },
  {
   "cell_type": "markdown",
   "id": "87e4cffc-b695-4663-a067-f1115fdd2b64",
   "metadata": {},
   "source": [
    "## 집계함수"
   ]
  },
  {
   "cell_type": "code",
   "execution_count": 4,
   "id": "64e52047-9424-457a-a4cf-dbd2723c3f6b",
   "metadata": {},
   "outputs": [
    {
     "data": {
      "text/plain": [
       "array([[ 1,  2,  3,  4,  5],\n",
       "       [ 6,  7,  8,  9, 10],\n",
       "       [11, 12, 13, 14, 15]])"
      ]
     },
     "execution_count": 4,
     "metadata": {},
     "output_type": "execute_result"
    }
   ],
   "source": [
    "array_2d = np.arange(1, 16).reshape(3, 5)\n",
    "array_2d"
   ]
  },
  {
   "cell_type": "code",
   "execution_count": 9,
   "id": "b3faaf27-f944-495c-8aed-92e2fa1ee1d6",
   "metadata": {},
   "outputs": [
    {
     "name": "stdout",
     "output_type": "stream",
     "text": [
      "sum() :  120\n",
      "sum(axis=0) :  [18 21 24 27 30]\n",
      "sum(axis=1) :  [15 40 65]\n"
     ]
    }
   ],
   "source": [
    "print(\"sum() : \", array_2d.sum())\n",
    "print(\"sum(axis=0) : \", array_2d.sum(axis=0))\n",
    "print(\"sum(axis=1) : \", array_2d.sum(axis=1))"
   ]
  },
  {
   "cell_type": "code",
   "execution_count": 10,
   "id": "28287f68-d6e2-4d94-b4b4-29e95cd50ac2",
   "metadata": {},
   "outputs": [
    {
     "name": "stdout",
     "output_type": "stream",
     "text": [
      "mean() :  8.0\n",
      "mean(axis=0) :  [ 6.  7.  8.  9. 10.]\n",
      "mean(axis=1) :  [ 3.  8. 13.]\n"
     ]
    }
   ],
   "source": [
    "print(\"mean() : \", array_2d.mean())\n",
    "print(\"mean(axis=0) : \", array_2d.mean(axis=0))\n",
    "print(\"mean(axis=1) : \", array_2d.mean(axis=1))"
   ]
  },
  {
   "cell_type": "code",
   "execution_count": 13,
   "id": "5798d390-fc6f-472a-8dbe-08144c553604",
   "metadata": {},
   "outputs": [
    {
     "name": "stdout",
     "output_type": "stream",
     "text": [
      "min() :  1\n",
      "min(axis=0) :  [1 2 3 4 5]\n",
      "min(axis=1) :  [ 1  6 11]\n",
      "---\n",
      "max() :  15\n",
      "max(axis=0) :  [11 12 13 14 15]\n",
      "max(axis=1) :  [ 5 10 15]\n"
     ]
    }
   ],
   "source": [
    "print(\"min() : \", array_2d.min())\n",
    "print(\"min(axis=0) : \", array_2d.min(axis=0))\n",
    "print(\"min(axis=1) : \", array_2d.min(axis=1))\n",
    "print(\"---\")\n",
    "print(\"max() : \", array_2d.max())\n",
    "print(\"max(axis=0) : \", array_2d.max(axis=0))\n",
    "print(\"max(axis=1) : \", array_2d.max(axis=1))"
   ]
  },
  {
   "cell_type": "code",
   "execution_count": 12,
   "id": "ca44e0fd-be2c-41ff-8051-42e106f78f21",
   "metadata": {},
   "outputs": [
    {
     "name": "stdout",
     "output_type": "stream",
     "text": [
      "max() :  15\n",
      "max(axis=0) :  [11 12 13 14 15]\n",
      "max(axis=1) :  [ 5 10 15]\n"
     ]
    }
   ],
   "source": [
    "print(\"max() : \", array_2d.max())\n",
    "print(\"max(axis=0) : \", array_2d.max(axis=0))\n",
    "print(\"max(axis=1) : \", array_2d.max(axis=1))"
   ]
  }
 ],
 "metadata": {
  "kernelspec": {
   "display_name": "Python 3 (ipykernel)",
   "language": "python",
   "name": "python3"
  },
  "language_info": {
   "codemirror_mode": {
    "name": "ipython",
    "version": 3
   },
   "file_extension": ".py",
   "mimetype": "text/x-python",
   "name": "python",
   "nbconvert_exporter": "python",
   "pygments_lexer": "ipython3",
   "version": "3.8.7"
  }
 },
 "nbformat": 4,
 "nbformat_minor": 5
}
