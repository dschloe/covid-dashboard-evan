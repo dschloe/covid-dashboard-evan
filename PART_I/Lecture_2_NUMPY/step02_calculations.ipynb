{
 "cells": [
  {
   "cell_type": "markdown",
   "id": "120b92ea-6f61-4583-9a0e-18e6c46f3004",
   "metadata": {},
   "source": [
    "## 배열 사칙연산"
   ]
  },
  {
   "cell_type": "code",
   "execution_count": null,
   "id": "359d4d7f-c24e-4019-9ef7-bcae88b1ba5a",
   "metadata": {},
   "outputs": [],
   "source": []
  }
 ],
 "metadata": {
  "kernelspec": {
   "display_name": "Python 3 (ipykernel)",
   "language": "python",
   "name": "python3"
  },
  "language_info": {
   "codemirror_mode": {
    "name": "ipython",
    "version": 3
   },
   "file_extension": ".py",
   "mimetype": "text/x-python",
   "name": "python",
   "nbconvert_exporter": "python",
   "pygments_lexer": "ipython3",
   "version": "3.9.0"
  }
 },
 "nbformat": 4,
 "nbformat_minor": 5
}
