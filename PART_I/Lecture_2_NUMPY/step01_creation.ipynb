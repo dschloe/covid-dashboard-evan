{
 "cells": [
  {
   "cell_type": "markdown",
   "id": "d25559ef-abb0-4f20-8902-55df073198f5",
   "metadata": {},
   "source": [
    "## NumPy 라이브러리 불러오기 및 버전 확인"
   ]
  },
  {
   "cell_type": "code",
   "execution_count": 1,
   "id": "30a9e20a-6050-4d49-a311-0887fa5245f4",
   "metadata": {},
   "outputs": [
    {
     "name": "stdout",
     "output_type": "stream",
     "text": [
      "1.22.2\n"
     ]
    }
   ],
   "source": [
    "import numpy as np \n",
    "print(np.__version__)"
   ]
  },
  {
   "cell_type": "code",
   "execution_count": 3,
   "id": "1d988030-6767-4ecf-8e41-42393429e8f2",
   "metadata": {},
   "outputs": [
    {
     "data": {
      "text/plain": [
       "[1, 2, 3, 4, 5, 6]"
      ]
     },
     "execution_count": 3,
     "metadata": {},
     "output_type": "execute_result"
    }
   ],
   "source": [
    "list_01 = [1, 2, 3]\n",
    "list_02 = [4, 5, 6]\n",
    "\n",
    "list_01 + list_02"
   ]
  },
  {
   "cell_type": "code",
   "execution_count": 4,
   "id": "99b5e8d2-8834-4998-8feb-f35c81d6552d",
   "metadata": {},
   "outputs": [
    {
     "data": {
      "text/plain": [
       "array([5, 7, 9])"
      ]
     },
     "execution_count": 4,
     "metadata": {},
     "output_type": "execute_result"
    }
   ],
   "source": [
    "array_01 = np.array(list_01)\n",
    "array_02 = np.array(list_02)\n",
    "array_01 + array_02"
   ]
  },
  {
   "cell_type": "markdown",
   "id": "bafa9d14-1cb7-4d45-819f-77226abdc719",
   "metadata": {},
   "source": [
    "## 배열의 차원"
   ]
  },
  {
   "cell_type": "code",
   "execution_count": 6,
   "id": "9401310d-ea35-428f-85f4-c93c1db8ee25",
   "metadata": {},
   "outputs": [
    {
     "data": {
      "text/plain": [
       "1"
      ]
     },
     "execution_count": 6,
     "metadata": {},
     "output_type": "execute_result"
    }
   ],
   "source": [
    "array_01.ndim"
   ]
  },
  {
   "cell_type": "code",
   "execution_count": 12,
   "id": "8546cb90-62b9-466c-ad1d-93849af9a6c8",
   "metadata": {},
   "outputs": [
    {
     "name": "stdout",
     "output_type": "stream",
     "text": [
      "[[1 2]\n",
      " [2 1]] \n",
      "\n",
      "차원 수:  2\n"
     ]
    }
   ],
   "source": [
    "array_2d = np.array([[1, 2], [2, 1]])\n",
    "print(array_2d, \"\\n\")\n",
    "print(\"차원 수: \", array_2d.ndim)"
   ]
  },
  {
   "cell_type": "code",
   "execution_count": 13,
   "id": "5ebbf5f6-1232-47e9-bf34-19873f23e5f2",
   "metadata": {},
   "outputs": [
    {
     "data": {
      "text/plain": [
       "(2, 2)"
      ]
     },
     "execution_count": 13,
     "metadata": {},
     "output_type": "execute_result"
    }
   ],
   "source": [
    "array_2d.shape"
   ]
  },
  {
   "cell_type": "code",
   "execution_count": 14,
   "id": "9da5a5da-e8dd-40a3-a44e-3e76f299e02e",
   "metadata": {},
   "outputs": [
    {
     "data": {
      "text/plain": [
       "dtype('int32')"
      ]
     },
     "execution_count": 14,
     "metadata": {},
     "output_type": "execute_result"
    }
   ],
   "source": [
    "array_2d.dtype"
   ]
  }
 ],
 "metadata": {
  "kernelspec": {
   "display_name": "Python 3 (ipykernel)",
   "language": "python",
   "name": "python3"
  },
  "language_info": {
   "codemirror_mode": {
    "name": "ipython",
    "version": 3
   },
   "file_extension": ".py",
   "mimetype": "text/x-python",
   "name": "python",
   "nbconvert_exporter": "python",
   "pygments_lexer": "ipython3",
   "version": "3.8.0"
  }
 },
 "nbformat": 4,
 "nbformat_minor": 5
}
