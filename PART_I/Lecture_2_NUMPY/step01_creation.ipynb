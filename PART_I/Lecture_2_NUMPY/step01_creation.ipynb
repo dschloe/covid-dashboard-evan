{
 "cells": [
  {
   "cell_type": "markdown",
   "id": "d25559ef-abb0-4f20-8902-55df073198f5",
   "metadata": {},
   "source": [
    "## NumPy 라이브러리 불러오기 및 버전 확인"
   ]
  },
  {
   "cell_type": "code",
   "execution_count": 2,
   "id": "30a9e20a-6050-4d49-a311-0887fa5245f4",
   "metadata": {},
   "outputs": [
    {
     "name": "stdout",
     "output_type": "stream",
     "text": [
      "1.22.2\n"
     ]
    }
   ],
   "source": [
    "import numpy as np \n",
    "print(np.__version__)"
   ]
  },
  {
   "cell_type": "code",
   "execution_count": 3,
   "id": "1d988030-6767-4ecf-8e41-42393429e8f2",
   "metadata": {},
   "outputs": [
    {
     "data": {
      "text/plain": [
       "[1, 2, 3, 4, 5, 6]"
      ]
     },
     "execution_count": 3,
     "metadata": {},
     "output_type": "execute_result"
    }
   ],
   "source": [
    "list_01 = [1, 2, 3]\n",
    "list_02 = [4, 5, 6]\n",
    "\n",
    "list_01 + list_02"
   ]
  },
  {
   "cell_type": "code",
   "execution_count": 4,
   "id": "99b5e8d2-8834-4998-8feb-f35c81d6552d",
   "metadata": {},
   "outputs": [
    {
     "data": {
      "text/plain": [
       "array([5, 7, 9])"
      ]
     },
     "execution_count": 4,
     "metadata": {},
     "output_type": "execute_result"
    }
   ],
   "source": [
    "array_01 = np.array(list_01)\n",
    "array_02 = np.array(list_02)\n",
    "array_01 + array_02"
   ]
  },
  {
   "cell_type": "markdown",
   "id": "bafa9d14-1cb7-4d45-819f-77226abdc719",
   "metadata": {},
   "source": [
    "## 배열의 차원"
   ]
  },
  {
   "cell_type": "code",
   "execution_count": 5,
   "id": "9401310d-ea35-428f-85f4-c93c1db8ee25",
   "metadata": {},
   "outputs": [
    {
     "data": {
      "text/plain": [
       "1"
      ]
     },
     "execution_count": 5,
     "metadata": {},
     "output_type": "execute_result"
    }
   ],
   "source": [
    "array_01.ndim"
   ]
  },
  {
   "cell_type": "code",
   "execution_count": 6,
   "id": "8546cb90-62b9-466c-ad1d-93849af9a6c8",
   "metadata": {},
   "outputs": [
    {
     "name": "stdout",
     "output_type": "stream",
     "text": [
      "[[1 2]\n",
      " [2 1]] \n",
      "\n",
      "차원 수:  2\n"
     ]
    }
   ],
   "source": [
    "array_2d = np.array([[1, 2], [2, 1]])\n",
    "print(array_2d, \"\\n\")\n",
    "print(\"차원 수: \", array_2d.ndim)"
   ]
  },
  {
   "cell_type": "code",
   "execution_count": 7,
   "id": "5ebbf5f6-1232-47e9-bf34-19873f23e5f2",
   "metadata": {},
   "outputs": [
    {
     "data": {
      "text/plain": [
       "(2, 2)"
      ]
     },
     "execution_count": 7,
     "metadata": {},
     "output_type": "execute_result"
    }
   ],
   "source": [
    "array_2d.shape"
   ]
  },
  {
   "cell_type": "code",
   "execution_count": 8,
   "id": "9da5a5da-e8dd-40a3-a44e-3e76f299e02e",
   "metadata": {},
   "outputs": [
    {
     "data": {
      "text/plain": [
       "dtype('int32')"
      ]
     },
     "execution_count": 8,
     "metadata": {},
     "output_type": "execute_result"
    }
   ],
   "source": [
    "array_2d.dtype"
   ]
  },
  {
   "cell_type": "markdown",
   "id": "f3d1575c-0e30-442f-903b-ec7ddaba1852",
   "metadata": {},
   "source": [
    "## 배열 생성"
   ]
  },
  {
   "cell_type": "code",
   "execution_count": 12,
   "id": "b6a707c2-cee1-4965-acbd-a33858eabe7b",
   "metadata": {},
   "outputs": [
    {
     "name": "stdout",
     "output_type": "stream",
     "text": [
      "[[1. 2.]\n",
      " [2. 1.]] \n",
      "\n",
      "float64\n"
     ]
    }
   ],
   "source": [
    "x = np.array([[1, 2], [2, 1]], dtype=np.float64)\n",
    "\n",
    "print(x, \"\\n\")\n",
    "print(x.dtype)"
   ]
  },
  {
   "cell_type": "code",
   "execution_count": 13,
   "id": "127dc0f5-2bcb-4489-9a1e-8de62dd4643b",
   "metadata": {},
   "outputs": [
    {
     "data": {
      "text/plain": [
       "array([0, 1, 2, 3, 4, 5, 6, 7, 8, 9])"
      ]
     },
     "execution_count": 13,
     "metadata": {},
     "output_type": "execute_result"
    }
   ],
   "source": [
    "array_1d = np.arange(10)\n",
    "array_1d"
   ]
  },
  {
   "cell_type": "code",
   "execution_count": 15,
   "id": "3f9cb5be-4f1e-4e6f-a79e-48b6cff69048",
   "metadata": {},
   "outputs": [
    {
     "name": "stdout",
     "output_type": "stream",
     "text": [
      "[[0 1 2 3 4]\n",
      " [5 6 7 8 9]] \n",
      "\n",
      "(2, 5)\n"
     ]
    }
   ],
   "source": [
    "array_2d = np.arange(10).reshape(2, 5)\n",
    "print(array_2d, \"\\n\")\n",
    "print(array_2d.shape)"
   ]
  },
  {
   "cell_type": "code",
   "execution_count": 16,
   "id": "3b724f28-5949-4620-8fbb-46d4eca21976",
   "metadata": {},
   "outputs": [
    {
     "ename": "ValueError",
     "evalue": "cannot reshape array of size 10 into shape (2,4)",
     "output_type": "error",
     "traceback": [
      "\u001b[1;31m---------------------------------------------------------------------------\u001b[0m",
      "\u001b[1;31mValueError\u001b[0m                                Traceback (most recent call last)",
      "Input \u001b[1;32mIn [16]\u001b[0m, in \u001b[0;36m<module>\u001b[1;34m\u001b[0m\n\u001b[1;32m----> 1\u001b[0m array_2d \u001b[38;5;241m=\u001b[39m \u001b[43mnp\u001b[49m\u001b[38;5;241;43m.\u001b[39;49m\u001b[43marange\u001b[49m\u001b[43m(\u001b[49m\u001b[38;5;241;43m10\u001b[39;49m\u001b[43m)\u001b[49m\u001b[38;5;241;43m.\u001b[39;49m\u001b[43mreshape\u001b[49m\u001b[43m(\u001b[49m\u001b[38;5;241;43m2\u001b[39;49m\u001b[43m,\u001b[49m\u001b[43m \u001b[49m\u001b[38;5;241;43m4\u001b[39;49m\u001b[43m)\u001b[49m\n",
      "\u001b[1;31mValueError\u001b[0m: cannot reshape array of size 10 into shape (2,4)"
     ]
    }
   ],
   "source": [
    "array_2d = np.arange(10).reshape(2, 4)"
   ]
  },
  {
   "cell_type": "code",
   "execution_count": 18,
   "id": "27afc9f4-0da8-426c-8381-872c1f303292",
   "metadata": {},
   "outputs": [
    {
     "name": "stdout",
     "output_type": "stream",
     "text": [
      "[[[0 1]\n",
      "  [2 3]]\n",
      "\n",
      " [[4 5]\n",
      "  [6 7]]] \n",
      "\n",
      "(2, 2, 2)\n"
     ]
    }
   ],
   "source": [
    "array_3d = np.arange(8).reshape(2, 2, 2)\n",
    "print(array_3d, \"\\n\")\n",
    "print(array_3d.shape)"
   ]
  },
  {
   "cell_type": "code",
   "execution_count": 20,
   "id": "ee31ce8b-fefc-47af-9875-8b20fc3059b4",
   "metadata": {},
   "outputs": [
    {
     "name": "stdout",
     "output_type": "stream",
     "text": [
      "[[0. 0. 0.]\n",
      " [0. 0. 0.]] \n",
      "\n",
      "float64\n",
      "(2, 3)\n"
     ]
    }
   ],
   "source": [
    "array_zeros  = np.zeros((2, 3))\n",
    "print(array_zeros , \"\\n\")\n",
    "print(array_zeros .dtype)\n",
    "print(array_zeros .shape)"
   ]
  },
  {
   "cell_type": "code",
   "execution_count": 21,
   "id": "8a513e61-357b-4c2d-bfe6-6bef3a4747a5",
   "metadata": {},
   "outputs": [
    {
     "name": "stdout",
     "output_type": "stream",
     "text": [
      "[[1. 1. 1.]\n",
      " [1. 1. 1.]] \n",
      "\n",
      "float64\n",
      "(2, 3)\n"
     ]
    }
   ],
   "source": [
    "array_one = np.ones((2, 3))\n",
    "print(array_one, \"\\n\")\n",
    "print(array_one.dtype)\n",
    "print(array_one.shape)"
   ]
  },
  {
   "cell_type": "code",
   "execution_count": 26,
   "id": "0660f8d0-5a02-47b9-96ee-e85ec81071b4",
   "metadata": {},
   "outputs": [
    {
     "data": {
      "text/plain": [
       "array([ 0.,  5., 10., 15., 20.])"
      ]
     },
     "execution_count": 26,
     "metadata": {},
     "output_type": "execute_result"
    }
   ],
   "source": [
    "np.linspace(0, 20, num= 5)"
   ]
  },
  {
   "cell_type": "code",
   "execution_count": 29,
   "id": "e91c9aa8-34ab-49e8-bfa1-a62a0278c47c",
   "metadata": {},
   "outputs": [
    {
     "data": {
      "text/plain": [
       "array([[0.85598088, 0.05019068, 0.64870848],\n",
       "       [0.59538304, 0.20327078, 0.27801502]])"
      ]
     },
     "execution_count": 29,
     "metadata": {},
     "output_type": "execute_result"
    }
   ],
   "source": [
    "np.random.random((2,3))"
   ]
  },
  {
   "cell_type": "code",
   "execution_count": null,
   "id": "fd5124b6-b0b6-4197-a0d3-9dc5388fb438",
   "metadata": {},
   "outputs": [],
   "source": []
  },
  {
   "cell_type": "code",
   "execution_count": null,
   "id": "000cc583-98bb-4167-84c8-91007abc5d11",
   "metadata": {},
   "outputs": [],
   "source": []
  },
  {
   "cell_type": "code",
   "execution_count": null,
   "id": "c1d07bb1-7811-4065-8e29-121d40b05c32",
   "metadata": {},
   "outputs": [],
   "source": []
  }
 ],
 "metadata": {
  "kernelspec": {
   "display_name": "Python 3 (ipykernel)",
   "language": "python",
   "name": "python3"
  },
  "language_info": {
   "codemirror_mode": {
    "name": "ipython",
    "version": 3
   },
   "file_extension": ".py",
   "mimetype": "text/x-python",
   "name": "python",
   "nbconvert_exporter": "python",
   "pygments_lexer": "ipython3",
   "version": "3.9.0"
  }
 },
 "nbformat": 4,
 "nbformat_minor": 5
}
