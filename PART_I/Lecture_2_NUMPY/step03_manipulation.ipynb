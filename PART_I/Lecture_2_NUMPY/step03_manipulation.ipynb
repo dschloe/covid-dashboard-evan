{
 "cells": [
  {
   "cell_type": "markdown",
   "id": "ef786022-27a9-4719-8f5d-469f79168f16",
   "metadata": {},
   "source": [
    "## Transpose"
   ]
  },
  {
   "cell_type": "code",
   "execution_count": 1,
   "id": "f4dfedd3-7cd5-41d4-83c1-d45cf0b0d54f",
   "metadata": {},
   "outputs": [
    {
     "data": {
      "text/plain": [
       "'1.22.2'"
      ]
     },
     "execution_count": 1,
     "metadata": {},
     "output_type": "execute_result"
    }
   ],
   "source": [
    "import numpy as np\n",
    "np.__version__"
   ]
  },
  {
   "cell_type": "code",
   "execution_count": 26,
   "id": "fad0426f-c3b8-4ed0-baac-fef9b2e7b311",
   "metadata": {},
   "outputs": [
    {
     "name": "stdout",
     "output_type": "stream",
     "text": [
      "[[0 1 2 3]\n",
      " [4 5 6 7]] \n",
      "\n",
      "(2, 4)\n",
      "---\n",
      "[[0 4]\n",
      " [1 5]\n",
      " [2 6]\n",
      " [3 7]] \n",
      "\n",
      "(4, 2)\n",
      "---\n",
      "[[0 1 2 3]\n",
      " [4 5 6 7]] \n",
      "\n",
      "(2, 4)\n"
     ]
    }
   ],
   "source": [
    "arr = np.arange(8).reshape(2, 4)\n",
    "print(arr, \"\\n\")\n",
    "print(arr.shape)\n",
    "print(\"---\")\n",
    "arr = arr.T\n",
    "print(arr, \"\\n\")\n",
    "print(arr.shape)\n",
    "print(\"---\")\n",
    "arr = arr.transpose()\n",
    "print(arr, \"\\n\")\n",
    "print(arr.shape)"
   ]
  },
  {
   "cell_type": "markdown",
   "id": "4b561000-56ff-4035-a784-9e39a6d6d0e1",
   "metadata": {},
   "source": [
    "## 정렬"
   ]
  },
  {
   "cell_type": "code",
   "execution_count": 31,
   "id": "31619474-83c4-4f2f-8142-68f5953b6425",
   "metadata": {},
   "outputs": [
    {
     "name": "stdout",
     "output_type": "stream",
     "text": [
      "[[ 3  1  2]\n",
      " [ 4  2 10]\n",
      " [ 5  3  2]]\n",
      "(3, 3)\n",
      "---\n",
      "[[ 1  2  3]\n",
      " [ 2  4 10]\n",
      " [ 2  3  5]]\n",
      "---axis=1---\n",
      "[[ 1  2  3]\n",
      " [ 2  4 10]\n",
      " [ 2  3  5]]\n",
      "---axis=0---\n",
      "[[ 3  1  2]\n",
      " [ 4  2  2]\n",
      " [ 5  3 10]]\n"
     ]
    }
   ],
   "source": [
    "arr = np.array([\n",
    "    [3,1,2], \n",
    "    [4,2,10], \n",
    "    [5,3,2]\n",
    "])\n",
    "\n",
    "print(arr)\n",
    "print(arr.shape)\n",
    "print(\"---\")\n",
    "print(np.sort(arr))\n",
    "print(\"---axis=1---\")\n",
    "print(np.sort(arr, axis=1))\n",
    "print(\"---axis=0---\")\n",
    "print(np.sort(arr, axis=0))"
   ]
  },
  {
   "cell_type": "markdown",
   "id": "9ad75a58-a09f-4f00-bc50-b12e439e72a4",
   "metadata": {},
   "source": [
    "## 데이터 합치기"
   ]
  },
  {
   "cell_type": "code",
   "execution_count": 50,
   "id": "41e37e28-3d47-46d8-be60-9fa640625db5",
   "metadata": {},
   "outputs": [
    {
     "name": "stdout",
     "output_type": "stream",
     "text": [
      "[[0 1 2]\n",
      " [3 4 5]] \n",
      "\n",
      "[[1. 1. 1.]\n",
      " [1. 1. 1.]] \n",
      "\n",
      "hstack\n",
      " [[0. 1. 2. 1. 1. 1.]\n",
      " [3. 4. 5. 1. 1. 1.]] \n",
      "\n",
      "(2, 6) \n",
      "\n",
      "vstack\n",
      " [[0. 1. 2.]\n",
      " [3. 4. 5.]\n",
      " [1. 1. 1.]\n",
      " [1. 1. 1.]] \n",
      "\n",
      "(4, 3) \n",
      "\n",
      "concatenate\n",
      " [[0. 1. 2.]\n",
      " [3. 4. 5.]\n",
      " [1. 1. 1.]\n",
      " [1. 1. 1.]] \n",
      "\n",
      "(4, 3)\n",
      "concatenate axis=None\n",
      " [0. 1. 2. 3. 4. 5. 1. 1. 1. 1. 1. 1.] \n",
      "\n",
      "(12,)\n"
     ]
    }
   ],
   "source": [
    "a = np.arange(6).reshape(2,3)\n",
    "b = np.ones((2, 3))\n",
    "\n",
    "print(a, \"\\n\")\n",
    "print(b, \"\\n\")\n",
    "\n",
    "print(\"hstack\\n\", np.hstack((a,b)), \"\\n\")\n",
    "print(np.hstack((a,b)).shape, \"\\n\")\n",
    "print(\"vstack\\n\", np.vstack((a,b)), \"\\n\")\n",
    "print(np.vstack((a,b)).shape, \"\\n\")\n",
    "print(\"concatenate\\n\", np.concatenate((a,b)), \"\\n\")\n",
    "print(np.concatenate((a,b)).shape)\n",
    "print(\"concatenate axis=None\\n\", np.concatenate((a,b), axis=None), \"\\n\")\n",
    "print(np.concatenate((a,b), axis=None).shape)"
   ]
  },
  {
   "cell_type": "code",
   "execution_count": null,
   "id": "1ef5fecc-f22c-4121-b95d-93f2704ea426",
   "metadata": {},
   "outputs": [],
   "source": []
  }
 ],
 "metadata": {
  "kernelspec": {
   "display_name": "Python 3 (ipykernel)",
   "language": "python",
   "name": "python3"
  },
  "language_info": {
   "codemirror_mode": {
    "name": "ipython",
    "version": 3
   },
   "file_extension": ".py",
   "mimetype": "text/x-python",
   "name": "python",
   "nbconvert_exporter": "python",
   "pygments_lexer": "ipython3",
   "version": "3.8.0"
  }
 },
 "nbformat": 4,
 "nbformat_minor": 5
}
