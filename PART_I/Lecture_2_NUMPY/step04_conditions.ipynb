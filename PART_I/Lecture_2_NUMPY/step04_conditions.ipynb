{
 "cells": [
  {
   "cell_type": "markdown",
   "id": "c80fa283-f5c6-4732-a0a6-fe4e938ffd88",
   "metadata": {},
   "source": [
    "## NumPy 조건식 - np.where"
   ]
  },
  {
   "cell_type": "code",
   "execution_count": 2,
   "id": "34250a44-7515-46c5-84a9-adb3d8b08389",
   "metadata": {},
   "outputs": [
    {
     "name": "stdout",
     "output_type": "stream",
     "text": [
      "1.22.2\n"
     ]
    }
   ],
   "source": [
    "import numpy as np\n",
    "print(np.__version__)"
   ]
  },
  {
   "cell_type": "code",
   "execution_count": 4,
   "id": "8b17c1d2-2b74-4fca-bdf1-894a79d4a951",
   "metadata": {},
   "outputs": [
    {
     "data": {
      "text/plain": [
       "array([  0,   1,   2, 300, 400])"
      ]
     },
     "execution_count": 4,
     "metadata": {},
     "output_type": "execute_result"
    }
   ],
   "source": [
    "a = np.arange(5)\n",
    "np.where(a < 3, a, 100 * a)"
   ]
  },
  {
   "cell_type": "markdown",
   "id": "8b0aaa83-3f02-41f9-ac3d-97711a80a86a",
   "metadata": {},
   "source": [
    "## 원리"
   ]
  },
  {
   "cell_type": "code",
   "execution_count": 5,
   "id": "9a5ee646-6a63-4b93-bbad-70baeccc9a40",
   "metadata": {},
   "outputs": [
    {
     "data": {
      "text/plain": [
       "array([ True,  True,  True, False, False])"
      ]
     },
     "execution_count": 5,
     "metadata": {},
     "output_type": "execute_result"
    }
   ],
   "source": [
    "boolArr = a < 3\n",
    "print(boolArr)\n",
    "np.where(boolArr, a, 100 * a)"
   ]
  },
  {
   "cell_type": "code",
   "execution_count": 9,
   "id": "16c6aa72-ec1c-474d-bba2-e5af0eeeb5e9",
   "metadata": {},
   "outputs": [
    {
     "data": {
      "text/plain": [
       "array([  0,   1,   2, 300, 400])"
      ]
     },
     "execution_count": 9,
     "metadata": {},
     "output_type": "execute_result"
    }
   ],
   "source": [
    "boolArr2 = np.array([True, True, True, False, False])\n",
    "np.where(boolArr2, a, 100 * a)"
   ]
  },
  {
   "cell_type": "code",
   "execution_count": 19,
   "id": "740d70ee-4102-4093-8b78-bc03a81cf89e",
   "metadata": {},
   "outputs": [
    {
     "data": {
      "text/plain": [
       "array([[ 0,  1,  2,  3],\n",
       "       [ 4,  5,  6,  7],\n",
       "       [ 8,  9, 10, 11],\n",
       "       [12, 13, 14, 15]])"
      ]
     },
     "execution_count": 19,
     "metadata": {},
     "output_type": "execute_result"
    }
   ],
   "source": [
    "arr = np.arange(16).reshape(4, 4)\n",
    "arr"
   ]
  },
  {
   "cell_type": "code",
   "execution_count": 23,
   "id": "45122770-572b-4a5f-9b90-8b7e43b99280",
   "metadata": {},
   "outputs": [
    {
     "data": {
      "text/plain": [
       "array([[  0,   1,   2,   3],\n",
       "       [  4,  50,  60,  70],\n",
       "       [ 80,  90, 100, 110],\n",
       "       [120, 130, 140, 150]])"
      ]
     },
     "execution_count": 23,
     "metadata": {},
     "output_type": "execute_result"
    }
   ],
   "source": [
    "np.where(arr < 5, arr, arr * 10)"
   ]
  },
  {
   "cell_type": "code",
   "execution_count": 24,
   "id": "aada934a-6408-4edf-9709-99eef4e3183f",
   "metadata": {},
   "outputs": [
    {
     "data": {
      "text/plain": [
       "array([0, 1, 2, 3, 4])"
      ]
     },
     "execution_count": 24,
     "metadata": {},
     "output_type": "execute_result"
    }
   ],
   "source": [
    "arr[np.where(arr < 5)]"
   ]
  },
  {
   "cell_type": "markdown",
   "id": "a7feb56f-e8fe-41e5-bb6d-d9b37618f694",
   "metadata": {},
   "source": [
    "## NumPy 조건식 - np.select"
   ]
  },
  {
   "cell_type": "code",
   "execution_count": 26,
   "id": "e01a747b-7c7b-4972-b96d-17d9f39b166d",
   "metadata": {},
   "outputs": [
    {
     "name": "stdout",
     "output_type": "stream",
     "text": [
      "[0 1 2 3 4 5 6 7 8 9]\n"
     ]
    },
    {
     "data": {
      "text/plain": [
       "array([  0,   2,   4,   0,   0,   0,   0,   0, 800, 900])"
      ]
     },
     "execution_count": 26,
     "metadata": {},
     "output_type": "execute_result"
    }
   ],
   "source": [
    "arr = np.arange(10)\n",
    "print(arr)\n",
    "condlist   = [arr < 3, arr > 7]\n",
    "choicelist = [arr * 2, arr * 100]\n",
    "np.select(condlist, choicelist)"
   ]
  }
 ],
 "metadata": {
  "kernelspec": {
   "display_name": "Python 3 (ipykernel)",
   "language": "python",
   "name": "python3"
  },
  "language_info": {
   "codemirror_mode": {
    "name": "ipython",
    "version": 3
   },
   "file_extension": ".py",
   "mimetype": "text/x-python",
   "name": "python",
   "nbconvert_exporter": "python",
   "pygments_lexer": "ipython3",
   "version": "3.8.0"
  }
 },
 "nbformat": 4,
 "nbformat_minor": 5
}
